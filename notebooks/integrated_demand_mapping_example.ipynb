{
 "cells": [
  {
   "cell_type": "code",
   "execution_count": null,
   "metadata": {},
   "outputs": [],
   "source": [
    "%load_ext autoreload\n",
    "%autoreload 2"
   ]
  },
  {
   "cell_type": "code",
   "execution_count": null,
   "metadata": {},
   "outputs": [],
   "source": [
    "import calendar\n",
    "import logging\n",
    "import pathlib\n",
    "import zipfile\n",
    "\n",
    "from datetime import timedelta\n",
    "import datetime\n",
    "\n",
    "import geopandas\n",
    "from geopandas import gpd\n",
    "import numpy as np\n",
    "import pandas as pd\n",
    "import requests\n",
    "from geopandas import GeoDataFrame\n",
    "from shapely.geometry import GeometryCollection, MultiPolygon, Polygon\n",
    "from shapely.ops import unary_union\n",
    "from tqdm import tqdm\n",
    "import seaborn as sns\n",
    "import matplotlib as mpl\n",
    "import sys\n",
    "\n",
    "logger = logging.getLogger(__name__)\n",
    "\n",
    "from shapely.geometry import Polygon, MultiPolygon\n",
    "\n",
    "from pudl.analysis.demand_mapping import (corr_fig, error_heatmap, error_na_fig, compare_datasets,\n",
    "                                          regional_demand_profiles, vec_error, uncovered_area_mismatch,\n",
    "                                          layer_intersection, allocate_and_aggregate)\n",
    "\n",
    "from pudl.output.ferc714 import Respondents\n",
    "import matplotlib.pyplot as plt\n",
    "import matplotlib as mpl\n",
    "\n",
    "%matplotlib inline\n",
    "\n",
    "import scipy\n",
    "from collections import defaultdict\n",
    "from IPython.display import clear_output\n",
    "import pudl\n",
    "\n",
    "from pudl.helpers import download_zip_url\n",
    "from pudl.transform.ferc714 import OFFSET_CODES, TZ_CODES\n",
    "import addfips\n",
    "\n",
    "import sqlalchemy as sa"
   ]
  },
  {
   "cell_type": "code",
   "execution_count": null,
   "metadata": {},
   "outputs": [],
   "source": [
    "## Not set for map visualization\n",
    "sns.set()\n",
    "%matplotlib inline\n",
    "mpl.rcParams['figure.figsize'] = (10,4)\n",
    "mpl.rcParams['figure.dpi'] = 150\n",
    "pd.options.display.max_columns = 100\n",
    "pd.options.display.max_rows = 100"
   ]
  },
  {
   "cell_type": "code",
   "execution_count": null,
   "metadata": {},
   "outputs": [],
   "source": [
    "logger = logging.getLogger()\n",
    "logger.setLevel(logging.INFO)\n",
    "handler = logging.StreamHandler(stream=sys.stdout)\n",
    "log_format = '%(asctime)s [%(levelname)8s] %(name)s:%(lineno)s %(message)s'\n",
    "formatter = logging.Formatter(log_format)\n",
    "handler.setFormatter(formatter)\n",
    "logger.handlers = [handler]"
   ]
  },
  {
   "cell_type": "markdown",
   "metadata": {},
   "source": [
    "# Define notebook parameters"
   ]
  },
  {
   "cell_type": "code",
   "execution_count": null,
   "metadata": {},
   "outputs": [],
   "source": [
    "pudl_settings = pudl.workspace.setup.get_defaults()\n",
    "pudl_engine = sa.create_engine(pudl_settings['pudl_db'])\n",
    "\n",
    "local_data = pathlib.Path(pudl_settings[\"data_dir\"]) / \"local\""
   ]
  },
  {
   "cell_type": "markdown",
   "metadata": {},
   "source": [
    "# Importing and Loading Relevant Dataframes\n",
    "\n",
    "Major dataframes and tables being accessed:\n",
    "- FERC-714 databases used to allocate demand annually at the county level (part of the PUDL database)\n",
    "- Census databases for county shapefiles [Public]\n",
    "- 2010 and 2012 ReEDS regions hourly demand data [Private]\n",
    "- More coming..."
   ]
  },
  {
   "cell_type": "markdown",
   "metadata": {},
   "source": [
    "## County Shapefiles and Population Data"
   ]
  },
  {
   "cell_type": "code",
   "execution_count": null,
   "metadata": {},
   "outputs": [],
   "source": [
    "county_gdf = (pudl.analysis.service_territory.get_census2010_gdf(pudl_settings, \"county\")\n",
    "              .rename(columns={\"GEOID10\":\"county_id_fips\", \"DP0010001\": \"POPULATION\"}))\n",
    "\n",
    "county_gdf[\"STATE_FIPS_int\"] = pd.to_numeric(county_gdf[\"county_id_fips\"].str[:2])\n",
    "\n",
    "county_gdf =  (\n",
    "    county_gdf\n",
    "    # Remove all islands and non-mainland states and territories\n",
    "    .query(\"STATE_FIPS_int<=56 & STATE_FIPS_int not in (2, 15, 44)\")\n",
    "    # Project to US Albers conic equal-area projection\n",
    "    .to_crs(\"ESRI:102003\")\n",
    "    .drop(\"STATE_FIPS_int\", axis=1).sort_values(\"county_id_fips\").reset_index(drop=True)[\n",
    "        [\"county_id_fips\", \"POPULATION\", \"geometry\"]\n",
    "    ]\n",
    ")"
   ]
  },
  {
   "cell_type": "markdown",
   "metadata": {},
   "source": [
    "## County-Planning Area Mapping Dataset & Planning Area Hourly Demand (FERC-714 Data)\n",
    "- `ba_county_map` contains pairwise rows signifying which county have been supplied by which utility in each reporting year\n",
    "- `pa_demand_ferc714_df` contains the hourly demand data for each planning area \n",
    "- One year of data is analyzed at a time"
   ]
  },
  {
   "cell_type": "code",
   "execution_count": null,
   "metadata": {},
   "outputs": [],
   "source": [
    "%%time\n",
    "pudl_out = pudl.output.pudltabl.PudlTabl(pudl_engine=pudl_engine)\n",
    "pa_demand_ferc714_df = pudl_out.demand_hourly_pa_ferc714()\n",
    "ferc714_out = pudl.output.ferc714.Respondents(pudl_out)\n",
    "ba_county_map = ferc714_out.georef_counties()"
   ]
  },
  {
   "cell_type": "code",
   "execution_count": null,
   "metadata": {},
   "outputs": [],
   "source": [
    "def annual_ferc_data(pa_demand_ferc714_df, rep_year):\n",
    "\n",
    "    \n",
    "    pa_demand_ferc714_df_annual = (pa_demand_ferc714_df[pa_demand_ferc714_df[\"report_date\"].dt.year==rep_year]\n",
    "                                   # Focusing on one year\n",
    "                                   .pivot_table(values=\"demand_mwh\",\n",
    "                                                index=\"respondent_id_ferc714\",\n",
    "                                                columns=\"utc_datetime\",\n",
    "                                                aggfunc=np.mean)).reset_index()\n",
    "                                                # Pivoting the data to the right format\n",
    "    \n",
    "    return pa_demand_ferc714_df_annual"
   ]
  },
  {
   "cell_type": "markdown",
   "metadata": {},
   "source": [
    "## REEDS Data [OPTIONAL]\n",
    "- Some of the REEDS public data is not readily accessible\n",
    "- If that is the case, extract the timeseries data and the shapefile\n",
    "\n",
    "### REEDS Shapefiles"
   ]
  },
  {
   "cell_type": "code",
   "execution_count": null,
   "metadata": {},
   "outputs": [],
   "source": [
    "%%time\n",
    "reeds_gdf_path = local_data / \"nrel/reeds_shp\"\n",
    "if not reeds_gdf_path.is_dir():\n",
    "    raise FileNotFoundError(\n",
    "        f\"ReEDS Balancing Area geometries not found.\"\n",
    "        f\"Expected them at {reeds_path}\"\n",
    "    )\n",
    "reeds_gdf = gpd.read_file(reeds_gdf_path)\n",
    "\n",
    "logger.info(\"Normalizing inconsistent geometries\")\n",
    "reeds_gdf[\"geometry\"] = reeds_gdf[\"geometry\"].buffer(0)\n",
    "\n",
    "logger.info(\"Keeping Mainland US REEDS regions and dissolving to the PCA level\")\n",
    "reeds_gdf = (\n",
    "    reeds_gdf.assign(pca_num=lambda x: pd.to_numeric(x.pca.replace(\"^p\", value=\"\", regex=True)))\n",
    "    .query(\"pca_num<=134\")\n",
    "    .to_crs(\"ESRI:102003\")\n",
    "    .drop([\"Shape_Leng\", \"Shape_Area\", \"OBJECTID\", \"gid\", \"demreg2\", \"pca_num\"], axis=1)\n",
    "    .dissolve(by=[\"pca\"], as_index=False)\n",
    ")"
   ]
  },
  {
   "cell_type": "markdown",
   "metadata": {},
   "source": [
    "### 2012 REEDS Hourly Data"
   ]
  },
  {
   "cell_type": "code",
   "execution_count": null,
   "metadata": {},
   "outputs": [],
   "source": [
    "%%time\n",
    "logger.info(\"Loading REEDS 2012 hourly demand data\")\n",
    "reeds_hourly_2012 = (pd.read_csv(local_data / \"nrel\" / \"reeds_load_2012_est_time.csv\",\n",
    "                                 infer_datetime_format=True,\n",
    "                                 parse_dates=[\"est_time\"]))\n",
    "\n",
    "logger.info(\"Converting local hourly demand data to UTC datetime for consistency\")\n",
    "reeds_hourly_2012[\"utc_datetime\"] = reeds_hourly_2012[\"est_time\"] - OFFSET_CODES[\"EST\"]\n",
    "\n",
    "logger.info(\"Merging with the shapefile\")\n",
    "reeds_hourly_2012 = (reeds_hourly_2012\n",
    "                     .drop(\"est_time\", axis=1)\n",
    "                     .set_index(\"utc_datetime\").T\n",
    "                     .reset_index()\n",
    "                     .rename(columns={\"index\":\"pca\"})\n",
    "                     .merge(reeds_gdf))"
   ]
  },
  {
   "cell_type": "markdown",
   "metadata": {},
   "source": [
    "# 2012 Demand Data Analysis\n",
    "\n",
    "- Allocating 2012 US mainland hourly demand data disaggregated to the county level and re-aggregated to any other disjoint geometry series based on available FERC714 data\n",
    "- The data is compared to REEDS 2012 hourly demand data"
   ]
  },
  {
   "cell_type": "code",
   "execution_count": null,
   "metadata": {},
   "outputs": [],
   "source": [
    "def annual_demand_county_mapping(ba_county_map, county_gdf, rep_year=2010):\n",
    "    \"\"\"\n",
    "    Function to extract a single year of demand from the mapping of demand and counties\n",
    "    \"\"\"\n",
    "    ba_county_map_yr = ba_county_map[ba_county_map.report_date.dt.year == rep_year].to_crs(\"ESRI:102003\")\n",
    "\n",
    "    ba_county_id_set = (ba_county_map_yr\n",
    "                        .groupby([\"county_id_fips\", \"state\", \"state_id_fips\"])[\"respondent_id_ferc714\"]\n",
    "                        .agg(frozenset).reset_index()\n",
    "                        .rename(columns={\"respondent_id_ferc714\":\"respondent_id_ferc714_set\"}))\n",
    "    \n",
    "    ba_county_map_yr = (ba_county_map_yr\n",
    "                        .merge(ba_county_id_set)\n",
    "                        .merge(county_gdf.drop(\"geometry\", axis=1))\n",
    "                       )\n",
    "\n",
    "    \n",
    "    ba_county_map_yr = ba_county_map_yr.merge(ba_county_id_set)\n",
    "\n",
    "    ba_county_map_yr.drop([\"balancing_authority_id_eia\",\n",
    "                             \"balancing_authority_name_eia\", \"utility_id_eia\",\n",
    "                             \"utility_name_eia\"], axis=1, inplace=True)\n",
    "    \n",
    "    return ba_county_map_yr\n",
    "\n"
   ]
  },
  {
   "cell_type": "code",
   "execution_count": null,
   "metadata": {},
   "outputs": [],
   "source": [
    "%%time\n",
    "\n",
    "ba_county_map_2012 = annual_demand_county_mapping(ba_county_map, county_gdf, rep_year=2012)\n",
    "\n",
    "attributes_2012 = dict()\n",
    "logger.info(\"Creating attributes dictionary\")\n",
    "for col in list(reeds_gdf.columns) + list(ba_county_map_2012.columns):\n",
    "    \n",
    "    if col == \"respondent_id_ferc714\":\n",
    "        attributes_2012[col] = \"ID\"\n",
    "        \n",
    "    elif col == \"POPULATION\":\n",
    "        attributes_2012[col] = \"uniform\"\n",
    "        \n",
    "    elif col != \"geometry\":\n",
    "        attributes_2012[col] = \"constant\"\n",
    "\n",
    "logger.info(\"Disaggregating the county-planning area-REEDS shapefiles\")\n",
    "final_disagg_layer_2012 = layer_intersection(ba_county_map_2012, reeds_gdf, attributes_2012)\n",
    "\n",
    "logger.info(\"Extracting 2012 demand data\")\n",
    "pa_demand_ferc714_df_2012 = annual_ferc_data(pa_demand_ferc714_df.copy(), rep_year=2012)\n",
    "\n",
    "demand_columns_2012 = [col for col in pa_demand_ferc714_df_2012.columns if type(col) != str]"
   ]
  },
  {
   "cell_type": "markdown",
   "metadata": {},
   "source": [
    "## Allocate FERC714 Data for 2012\n",
    "- The `allocate_and_aggregate` function takes care of the allocation and aggregation (if required) based on the parameters in the function definition"
   ]
  },
  {
   "cell_type": "code",
   "execution_count": null,
   "metadata": {},
   "outputs": [],
   "source": [
    "%%time\n",
    "\n",
    "\n",
    "final_disagg_layer_2012_sel = final_disagg_layer_2012[final_disagg_layer_2012[\"respondent_id_ferc714\"].isin(\n",
    "    pa_demand_ferc714_df_2012[\"respondent_id_ferc714\"]\n",
    ")]\n",
    "\n",
    "reeds_hourly_pop_2012, geo_layer_2012 = allocate_and_aggregate(final_disagg_layer_2012_sel.copy(),\n",
    "                                                               attributes=attributes_2012,\n",
    "                                                               timeseries=pa_demand_ferc714_df_2012.copy(),\n",
    "                                                               aggregators=\"pca\",\n",
    "                                                               allocatees=demand_columns_2012)"
   ]
  },
  {
   "cell_type": "markdown",
   "metadata": {},
   "source": [
    "### REEDS Regions\n",
    "- Some suggestive REEDS PCA regions mentioned\n",
    "- We are using Texas for our analysis"
   ]
  },
  {
   "cell_type": "code",
   "execution_count": null,
   "metadata": {},
   "outputs": [],
   "source": [
    "TX_PCAs = ['p60', 'p61', 'p62', 'p63', 'p64', 'p65', 'p67']\n",
    "CO_PCAs = [\"p33\", \"p34\"]\n",
    "NM_PCAs = [\"p31\", \"p47\"]\n",
    "LA_PCAs = [\"p58\", \"p86\"]"
   ]
  },
  {
   "cell_type": "markdown",
   "metadata": {},
   "source": [
    "## 2012 REEDS Analysis\n",
    "- Allocating demand solely based on population and its exponents\n",
    "- i.e. demand may be allocated based on population, or population^2... and accordingly the minimum error is compared to the REEDS data for best fit"
   ]
  },
  {
   "cell_type": "code",
   "execution_count": null,
   "metadata": {},
   "outputs": [],
   "source": [
    "%%time\n",
    "reeds_errs_2012_TX = []\n",
    "reeds_exps_2012_TX = [-1, -0.75, -0.5, -0.25, 0, 0.25, 0.5, 0.75, 1, 1.5, 2, 3]\n",
    "\n",
    "\n",
    "for i, exp in enumerate(reeds_exps_2012_TX):\n",
    "    \n",
    "    print(\"Iteration \" + str(i) + \": Calculation for exponent \" + str(exp))\n",
    "    reeds_hourly_pop_2012 = allocate_and_aggregate(final_disagg_layer_2012_sel.copy(),\n",
    "                                                   attributes=attributes_2012,\n",
    "                                                   timeseries=pa_demand_ferc714_df_2012.copy(),\n",
    "                                                   aggregators=\"pca\", allocatees=demand_columns_2012,\n",
    "                                                   geo_layer=geo_layer_2012.copy(), alloc_exps=exp)\n",
    "\n",
    "    reeds_compare_2012_TX = compare_datasets(reeds_hourly_pop_2012.copy(), reeds_hourly_2012.copy(),\n",
    "                                          demand_columns_2012, TX_PCAs, time_col=\"utc_datetime\", region=\"pca\")\n",
    "    \n",
    "    mse_err = np.nanmean(reeds_compare_2012_TX.eval(\"(measured - predicted) ** 2\"))\n",
    "    reeds_errs_2012_TX.append(mse_err)\n",
    "    clear_output()\n",
    "\n",
    "\n",
    "reeds_err_df_2012_TX = pd.DataFrame({\n",
    "    \"exponent\": reeds_exps_2012_TX,\n",
    "    \"errors\": reeds_errs_2012_TX\n",
    "})\n",
    "plt.plot(\"exponent\", \"errors\", data=reeds_err_df_2012_TX.sort_values(\"exponent\"))"
   ]
  },
  {
   "cell_type": "markdown",
   "metadata": {},
   "source": [
    "- It is notable that the error margin is lowest when demand is directly allocated based on population raised to the power 1"
   ]
  },
  {
   "cell_type": "code",
   "execution_count": null,
   "metadata": {},
   "outputs": [],
   "source": [
    "reeds_hourly_pop_2012 = allocate_and_aggregate(final_disagg_layer_2012_sel.copy(),\n",
    "                                 attributes=attributes_2012,timeseries=pa_demand_ferc714_df_2012.copy(),\n",
    "                                 aggregators=\"pca\", allocatees=demand_columns_2012,\n",
    "                                 geo_layer=geo_layer_2012.copy(), alloc_exps=1)\n",
    "\n",
    "reeds_compare_2012 = compare_datasets(alloc_demand=reeds_hourly_pop_2012.copy(),\n",
    "                                      actual_demand=reeds_hourly_2012.copy(),\n",
    "                                      demand_columns=demand_columns_2012,\n",
    "                                      select_regions=list(reeds_hourly_2012[\"pca\"].unique()))\n",
    "\n",
    "\n",
    "# create_figs(reeds_compare_2012.copy())"
   ]
  },
  {
   "cell_type": "markdown",
   "metadata": {},
   "source": [
    "### Parity Plot"
   ]
  },
  {
   "cell_type": "code",
   "execution_count": null,
   "metadata": {},
   "outputs": [],
   "source": [
    "corr_fig(reeds_compare_2012.copy(), TX_PCAs,\n",
    "         suptitle=\"Allocated demand for TX in 2012\", top=0.94)"
   ]
  },
  {
   "cell_type": "markdown",
   "metadata": {},
   "source": [
    "### Seasonal Errors and NA values"
   ]
  },
  {
   "cell_type": "code",
   "execution_count": null,
   "metadata": {},
   "outputs": [],
   "source": [
    "error_na_fig(reeds_compare_2012[reeds_compare_2012[\"region\"].isin(TX_PCAs)].copy())"
   ]
  },
  {
   "cell_type": "markdown",
   "metadata": {},
   "source": [
    "### Regional Demand Profiles"
   ]
  },
  {
   "cell_type": "code",
   "execution_count": null,
   "metadata": {
    "scrolled": false
   },
   "outputs": [],
   "source": [
    "%%time\n",
    "regional_demand_profiles(reeds_compare_2012.copy(), TX_PCAs, agg=False)"
   ]
  },
  {
   "cell_type": "markdown",
   "metadata": {},
   "source": [
    "### Uncovered Areas"
   ]
  },
  {
   "cell_type": "code",
   "execution_count": null,
   "metadata": {},
   "outputs": [],
   "source": [
    "%%time\n",
    "uncovered_area_mismatch(final_disagg_layer_2012_sel, reeds_gdf)"
   ]
  },
  {
   "cell_type": "markdown",
   "metadata": {},
   "source": [
    "### Yearly-Hourly Heatmap\n",
    "- Used to compare seasonal errors over a period "
   ]
  },
  {
   "cell_type": "code",
   "execution_count": null,
   "metadata": {
    "scrolled": false
   },
   "outputs": [],
   "source": [
    "%%time\n",
    "error_heatmap(reeds_hourly_pop_2012.copy(), reeds_hourly_2012.copy(), demand_columns_2012, error_metric=\"mse\",\n",
    "              leap_exception=True)"
   ]
  }
 ],
 "metadata": {
  "kernelspec": {
   "display_name": "pudl-dev",
   "language": "python",
   "name": "pudl-dev"
  },
  "language_info": {
   "codemirror_mode": {
    "name": "ipython",
    "version": 3
   },
   "file_extension": ".py",
   "mimetype": "text/x-python",
   "name": "python",
   "nbconvert_exporter": "python",
   "pygments_lexer": "ipython3",
   "version": "3.8.5"
  }
 },
 "nbformat": 4,
 "nbformat_minor": 4
}
