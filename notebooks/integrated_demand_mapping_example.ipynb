{
 "cells": [
  {
   "cell_type": "code",
   "execution_count": null,
   "metadata": {},
   "outputs": [],
   "source": [
    "%load_ext autoreload\n",
    "%autoreload 2"
   ]
  },
  {
   "cell_type": "code",
   "execution_count": null,
   "metadata": {},
   "outputs": [],
   "source": [
    "import calendar\n",
    "import logging\n",
    "import pathlib\n",
    "import zipfile\n",
    "\n",
    "from datetime import timedelta\n",
    "import datetime\n",
    "\n",
    "import geopandas\n",
    "from geopandas import gpd\n",
    "import numpy as np\n",
    "import pandas as pd\n",
    "import requests\n",
    "from geopandas import GeoDataFrame\n",
    "from shapely.geometry import GeometryCollection, MultiPolygon, Polygon\n",
    "from shapely.ops import unary_union\n",
    "from tqdm import tqdm\n",
    "import seaborn as sns\n",
    "import matplotlib as mpl\n",
    "import sys\n",
    "\n",
    "logger = logging.getLogger(__name__)\n",
    "\n",
    "from shapely.geometry import Polygon, MultiPolygon\n",
    "\n",
    "from pudl.analysis.demand_mapping import (corr_fig, error_heatmap, error_fig, compare_allocation,\n",
    "                                          regional_demand_profiles, vec_error, uncovered_area_mismatch,\n",
    "                                          layer_intersection, demand_allocation,\n",
    "                                          sales_ratio_by_class_fips)\n",
    "\n",
    "from pudl.output.ferc714 import Respondents\n",
    "import matplotlib.pyplot as plt\n",
    "import matplotlib as mpl\n",
    "\n",
    "%matplotlib inline\n",
    "\n",
    "import scipy\n",
    "from collections import defaultdict\n",
    "from IPython.display import clear_output\n",
    "import pudl\n",
    "\n",
    "from pudl.helpers import download_zip_url\n",
    "from pudl.transform.ferc714 import OFFSET_CODES, TZ_CODES\n",
    "import addfips\n",
    "\n",
    "import sqlalchemy as sa"
   ]
  },
  {
   "cell_type": "code",
   "execution_count": null,
   "metadata": {},
   "outputs": [],
   "source": [
    "## Not set for map visualization\n",
    "sns.set()\n",
    "%matplotlib inline\n",
    "mpl.rcParams[\"figure.figsize\"] = (10,4)\n",
    "mpl.rcParams[\"figure.dpi\"] = 150\n",
    "pd.options.display.max_columns = 100\n",
    "pd.options.display.max_rows = 100"
   ]
  },
  {
   "cell_type": "code",
   "execution_count": null,
   "metadata": {},
   "outputs": [],
   "source": [
    "logger = logging.getLogger()\n",
    "logger.setLevel(logging.INFO)\n",
    "handler = logging.StreamHandler(stream=sys.stdout)\n",
    "log_format = \"%(asctime)s [%(levelname)8s] %(name)s:%(lineno)s %(message)s\"\n",
    "formatter = logging.Formatter(log_format)\n",
    "handler.setFormatter(formatter)\n",
    "logger.handlers = [handler]"
   ]
  },
  {
   "cell_type": "markdown",
   "metadata": {},
   "source": [
    "# Define notebook parameters"
   ]
  },
  {
   "cell_type": "code",
   "execution_count": null,
   "metadata": {},
   "outputs": [],
   "source": [
    "pudl_settings = pudl.workspace.setup.get_defaults()\n",
    "pudl_engine = sa.create_engine(pudl_settings[\"pudl_db\"])\n",
    "\n",
    "local_data = pathlib.Path(pudl_settings[\"data_dir\"]) / \"local\""
   ]
  },
  {
   "cell_type": "markdown",
   "metadata": {},
   "source": [
    "# Importing and Loading Relevant Dataframes\n",
    "\n",
    "Major dataframes and tables being accessed:\n",
    "- FERC-714 databases used to allocate demand annually at the county level (part of the PUDL database)\n",
    "- Census databases for county shapefiles [Public]\n",
    "- 2010 and 2012 ReEDS regions hourly demand data [Private]\n",
    "- More coming..."
   ]
  },
  {
   "cell_type": "markdown",
   "metadata": {},
   "source": [
    "## County Shapefiles and Population Data"
   ]
  },
  {
   "cell_type": "code",
   "execution_count": null,
   "metadata": {},
   "outputs": [],
   "source": [
    "%%time\n",
    "county_gdf = (pudl.analysis.service_territory.get_census2010_gdf(pudl_settings, \"county\")\n",
    "              .rename(columns={\"GEOID10\":\"county_id_fips\", \"DP0010001\": \"population\"}))\n",
    "\n",
    "county_gdf[\"STATE_FIPS_int\"] = pd.to_numeric(county_gdf[\"county_id_fips\"].str[:2])\n",
    "\n",
    "county_gdf =  (\n",
    "    county_gdf\n",
    "    # Remove all islands and non-mainland states and territories\n",
    "    .query(\"STATE_FIPS_int<=56 & STATE_FIPS_int not in (2, 15, 44)\")\n",
    "    # Project to US Albers conic equal-area projection\n",
    "    .to_crs(\"ESRI:102003\")\n",
    "    .drop(\"STATE_FIPS_int\", axis=1).sort_values(\"county_id_fips\").reset_index(drop=True)[\n",
    "        [\"county_id_fips\", \"population\"]\n",
    "    ]\n",
    ")"
   ]
  },
  {
   "cell_type": "markdown",
   "metadata": {},
   "source": [
    "## County-Planning Area Mapping Dataset & Planning Area Hourly Demand (FERC-714 Data)\n",
    "- `ba_county_map` contains pairwise rows signifying which county have been supplied by which utility in each reporting year\n",
    "- `pa_demand_ferc714_df` contains the hourly demand data for each planning area \n",
    "- One year of data is analyzed at a time"
   ]
  },
  {
   "cell_type": "code",
   "execution_count": null,
   "metadata": {},
   "outputs": [],
   "source": [
    "%%time\n",
    "\n",
    "pudl_out = pudl.output.pudltabl.PudlTabl(pudl_engine=pudl_engine)\n",
    "pa_demand_ferc714_df = pudl_out.demand_hourly_pa_ferc714()\n",
    "ferc714_out = pudl.output.ferc714.Respondents(pudl_out)\n",
    "ba_county_map = ferc714_out.georef_counties()"
   ]
  },
  {
   "cell_type": "markdown",
   "metadata": {},
   "source": [
    "## NREL Industrial Energy Data"
   ]
  },
  {
   "cell_type": "code",
   "execution_count": null,
   "metadata": {},
   "outputs": [],
   "source": [
    "# %%time\n",
    "# nrel_ind_path = local_data / \"nrel/industrial\"\n",
    "# nrel_ind_zipfile_path = nrel_ind_path / \"county_industrial_energy_2010-2016.gz\"\n",
    "# nrel_ind_url = \"https://data.nrel.gov/system/files/122/Updated%20county%20energy%20estimates.gzip\"\n",
    "# nrel_ind_file_path = nrel_ind_path / \"county_industrial_energy_2010-2016.csv\"\n",
    "\n",
    "# if not nrel_ind_file_path.is_file():\n",
    "    \n",
    "#     if not nrel_ind_zipfile_path.is_file():\n",
    "#         logger.info(\"NREL industrial data not available. Downloading...\")\n",
    "#         download_zip_url(nrel_ind_url, nrel_ind_zipfile_path)"
   ]
  },
  {
   "cell_type": "code",
   "execution_count": null,
   "metadata": {},
   "outputs": [],
   "source": [
    "# with gzip.open(nrel_ind_zipfile_path, 'rb') as f_in:\n",
    "#     with open(nrel_ind_file_path, 'wb') as f_out:\n",
    "#         shutil.copyfileobj(f_in, f_out)"
   ]
  },
  {
   "cell_type": "code",
   "execution_count": null,
   "metadata": {},
   "outputs": [],
   "source": [
    "# with zipfile.ZipFile(nrel_ind_zipfile_path, 'r') as zip_ref:\n",
    "#     zip_ref.extractall(nrel_ind_path)\n",
    "#     # Grab the UUID based directory name so we can change it:\n",
    "#     extract_root = nrel_ind_path / pathlib.Path(zip_ref.filelist[0].filename).parent\n",
    "# extract_root.rename(nrel_ind_file_path)\n"
   ]
  },
  {
   "cell_type": "code",
   "execution_count": null,
   "metadata": {},
   "outputs": [],
   "source": [
    "# nrel_ind_df = pd.read_csv(nrel_ind_file_path)\n",
    "# nrel_ind_df[\"county_id_fips\"] = ('0' + nrel_ind_df[\"COUNTY_FIPS\"].astype(str).str[:-2]).str[-5:]\n",
    "# nrel_ind_df[\"state_id_fips\"] = ('0' + nrel_ind_df[\"FIPSTATE\"].astype(str).str[:-2]).str[-2:]\n",
    "# nrel_ind_df.drop([\"COUNTY_FIPS\", \"FIPSTATE\"], axis=1, inplace=True)"
   ]
  },
  {
   "cell_type": "markdown",
   "metadata": {},
   "source": [
    "## REEDS Data [OPTIONAL]\n",
    "- Some of the REEDS public data is not readily accessible\n",
    "- If that is the case, extract the timeseries data and the shapefile\n",
    "\n",
    "### REEDS Shapefiles"
   ]
  },
  {
   "cell_type": "code",
   "execution_count": null,
   "metadata": {},
   "outputs": [],
   "source": [
    "%%time\n",
    "reeds_gdf_path = local_data / \"nrel/reeds_shp\"\n",
    "if not reeds_gdf_path.is_dir():\n",
    "    raise FileNotFoundError(\n",
    "        f\"ReEDS Balancing Area geometries not found.\"\n",
    "        f\"Expected them at {reeds_path}\"\n",
    "    )\n",
    "reeds_gdf = gpd.read_file(reeds_gdf_path)\n",
    "\n",
    "logger.info(\"Normalizing inconsistent geometries\")\n",
    "reeds_gdf[\"geometry\"] = reeds_gdf[\"geometry\"].buffer(0)\n",
    "\n",
    "logger.info(\"Keeping Mainland US REEDS regions and dissolving to the PCA level\")\n",
    "reeds_gdf = (\n",
    "    reeds_gdf.assign(pca_num=lambda x: pd.to_numeric(x.pca.replace(\"^p\", value=\"\", regex=True)))\n",
    "    .query(\"pca_num<=134\")\n",
    "    .to_crs(\"ESRI:102003\")\n",
    "    .drop([\"Shape_Leng\", \"Shape_Area\", \"OBJECTID\", \"gid\", \"demreg2\", \"pca_num\"], axis=1)\n",
    "    .dissolve(by=[\"pca\"], as_index=False)\n",
    ")"
   ]
  },
  {
   "cell_type": "markdown",
   "metadata": {},
   "source": [
    "### 2012 REEDS Hourly Data"
   ]
  },
  {
   "cell_type": "code",
   "execution_count": null,
   "metadata": {},
   "outputs": [],
   "source": [
    "reeds_hourly_2012 = (pd.read_csv(local_data / \"nrel\" / \"reeds_load_2012_est_time.csv\",\n",
    "                                 infer_datetime_format=True, parse_dates=[\"est_time\"]))\n",
    "\n",
    "logger.info(\"Converting local hourly demand data to UTC datetime for consistency\")\n",
    "reeds_hourly_2012[\"utc_datetime\"] = reeds_hourly_2012[\"est_time\"] - OFFSET_CODES[\"EST\"]\n",
    "\n",
    "logger.info(\"adding utc_datetime and transforming dataset\")\n",
    "reeds_hourly_2012 = (reeds_hourly_2012.drop(\"est_time\", axis=1)\n",
    "                     .set_index(\"utc_datetime\")\n",
    "                     .stack()\n",
    "                     .reset_index()\n",
    "                     .rename(columns={\"level_1\":\"pca\", 0:\"demand_mwh\"}))"
   ]
  },
  {
   "cell_type": "markdown",
   "metadata": {},
   "source": [
    "# 2012 Demand Data Analysis\n",
    "\n",
    "- Allocating 2012 US mainland hourly demand data disaggregated to the county level and re-aggregated to any other disjoint geometry series based on available FERC714 data\n",
    "- The data is compared to REEDS 2012 hourly demand data"
   ]
  },
  {
   "cell_type": "code",
   "execution_count": null,
   "metadata": {},
   "outputs": [],
   "source": [
    "def annual_demand_mapping_timeseries(reporting_year,\n",
    "                                     merge_dfs,\n",
    "                                     ba_county_map=None,\n",
    "                                     pa_demand_ferc714_df=None):\n",
    "    \n",
    "    \n",
    "    if ba_county_map is None:\n",
    "        ferc714_out = pudl.output.ferc714.Respondents(pudl_out)\n",
    "        ba_county_map = ferc714_out.georef_counties()\n",
    "\n",
    "    if pa_demand_ferc714_df is None:\n",
    "        pudl_out = pudl.output.pudltabl.PudlTabl(pudl_engine=pudl_engine)\n",
    "        pa_demand_ferc714_df = pudl_out.demand_hourly_pa_ferc714()\n",
    "        \n",
    "    pa_demand_ferc714_df_annual = (pa_demand_ferc714_df[\n",
    "        pa_demand_ferc714_df[\"report_date\"].dt.year==reporting_year\n",
    "    ].dropna(subset=[\"demand_mwh\"]))\n",
    "    \n",
    "    ba_county_map_annual = (ba_county_map[(ba_county_map.report_date.dt.year == reporting_year) &\n",
    "                                          (ba_county_map[\"respondent_id_ferc714\"]\n",
    "                                           .isin(pa_demand_ferc714_df_annual[\"respondent_id_ferc714\"]\n",
    "                                                 .unique()))]\n",
    "                            .to_crs(\"ESRI:102003\"))\n",
    "\n",
    "    ba_county_id_set = (ba_county_map_annual\n",
    "                        .groupby([\"county_id_fips\", \"state\", \"state_id_fips\"])[\"respondent_id_ferc714\"]\n",
    "                        .agg(frozenset).reset_index()\n",
    "                        .rename(columns={\"respondent_id_ferc714\":\"respondent_id_ferc714_set\"}))\n",
    "    \n",
    "    ba_county_map_annual = (ba_county_map_annual\n",
    "                        .merge(ba_county_id_set)\n",
    "                       )\n",
    "    \n",
    "    for df in merge_dfs:\n",
    "        ba_county_map_annual = ba_county_map_annual.merge(df)\n",
    "\n",
    "    ba_county_map_annual.drop([\"balancing_authority_id_eia\",\n",
    "                               \"balancing_authority_name_eia\",\n",
    "                               \"utility_id_eia\",\n",
    "                               \"utility_name_eia\"], axis=1, inplace=True)\n",
    "    \n",
    "    \n",
    "    \n",
    "    return pa_demand_ferc714_df_annual, ba_county_map_annual    \n",
    "\n",
    "logger.info(\"Extracting 2012 service territory mapping and timeseries\")\n",
    "pa_demand_ferc714_df_2012, ba_county_map_2012 = annual_demand_mapping_timeseries(2012,\n",
    "                                                                                 [county_gdf],\n",
    "                                                                                 ba_county_map,\n",
    "                                                                                 pa_demand_ferc714_df)"
   ]
  },
  {
   "cell_type": "code",
   "execution_count": null,
   "metadata": {},
   "outputs": [],
   "source": [
    "%%time\n",
    "\n",
    "attributes_2012 = dict()\n",
    "logger.info(\"Creating attributes dictionary\")\n",
    "\n",
    "attributes_2012 = {col:\"constant\"\n",
    "                   for col in list(reeds_gdf.columns) + list(ba_county_map_2012.columns)\n",
    "                   if col != \"geometry\"}\n",
    "\n",
    "attributes_2012[\"population\"] = \"uniform\"\n",
    "attributes_2012[\"area_km2\"] = \"uniform\"\n",
    "attributes_2012[\"respondent_id_ferc714\"] = \"id\""
   ]
  },
  {
   "cell_type": "code",
   "execution_count": null,
   "metadata": {},
   "outputs": [],
   "source": [
    "%%time\n",
    "logger.info(\"Disaggregating the county-planning area-REEDS shapefiles\")\n",
    "final_disagg_layer_2012 = layer_intersection(ba_county_map_2012, reeds_gdf, attributes_2012)"
   ]
  },
  {
   "cell_type": "markdown",
   "metadata": {},
   "source": [
    "## Allocate FERC714 Data for 2012\n",
    "- The `allocate_and_aggregate` function takes care of the allocation and aggregation (if required) based on the parameters in the function definition"
   ]
  },
  {
   "cell_type": "code",
   "execution_count": null,
   "metadata": {},
   "outputs": [],
   "source": [
    "%%time\n",
    "\n",
    "reeds_hourly_pop_2012 = demand_allocation(final_disagg_layer_2012,\n",
    "                                          pa_demand_ferc714_df_2012,\n",
    "                                          attributes_2012,\n",
    "                                          aggregators=\"pca\")\n",
    "\n",
    "geo_layer_2012 = final_disagg_layer_2012.dissolve(by=\"pca\").reset_index()[[\"pca\", \"geometry\"]]"
   ]
  },
  {
   "cell_type": "markdown",
   "metadata": {},
   "source": [
    "### REEDS Regions\n",
    "- Some suggestive REEDS PCA regions mentioned\n",
    "- We are using Texas for our analysis"
   ]
  },
  {
   "cell_type": "code",
   "execution_count": null,
   "metadata": {},
   "outputs": [],
   "source": [
    "TX_PCAs = [\"p60\", \"p61\", \"p62\", \"p63\", \"p64\", \"p65\", \"p67\"]\n",
    "CO_PCAs = [\"p33\", \"p34\"]\n",
    "NM_PCAs = [\"p31\", \"p47\"]\n",
    "LA_PCAs = [\"p58\", \"p86\"]\n",
    "IN_PCAs = [\"p105\", \"p106\", \"p107\"]"
   ]
  },
  {
   "cell_type": "markdown",
   "metadata": {},
   "source": [
    "## 2012 REEDS Analysis\n",
    "- Allocating demand solely based on population and its exponents\n",
    "- i.e. demand may be allocated based on population, or population^2... and accordingly the minimum error is compared to the REEDS data for best fit"
   ]
  },
  {
   "cell_type": "code",
   "execution_count": null,
   "metadata": {},
   "outputs": [],
   "source": [
    "%%time\n",
    "reeds_errs_2012_TX = []\n",
    "reeds_exps_2012_TX = [-1, -0.75, -0.5, -0.25, 0, 0.25, 0.5, 0.75, 1, 1.5, 2, 3]\n",
    "\n",
    "\n",
    "for i, exp in enumerate(reeds_exps_2012_TX):\n",
    "    \n",
    "    print(\"Iteration \" + str(i) + \": Calculation for exponent \" + str(exp))\n",
    "    reeds_hourly_pop_2012 = demand_allocation(final_disagg_layer_2012,\n",
    "                                              pa_demand_ferc714_df_2012,\n",
    "                                              attributes_2012,\n",
    "                                              allocators={\"population\": exp},\n",
    "                                              aggregators=\"pca\")\n",
    "\n",
    "    reeds_compare_2012_TX = compare_allocation(reeds_hourly_pop_2012, reeds_hourly_2012, \"pca\",\n",
    "                                               select_regions=TX_PCAs)\n",
    "    \n",
    "    mse_err = np.nanmean(reeds_compare_2012_TX.eval(\"(measured - predicted) ** 2\"))\n",
    "    reeds_errs_2012_TX.append(mse_err)\n",
    "    clear_output()\n",
    "\n",
    "\n",
    "reeds_err_df_2012_TX = pd.DataFrame({\n",
    "    \"exponent\": reeds_exps_2012_TX,\n",
    "    \"errors\": reeds_errs_2012_TX\n",
    "})\n",
    "plt.plot(\"exponent\", \"errors\", data=reeds_err_df_2012_TX.sort_values(\"exponent\"))"
   ]
  },
  {
   "cell_type": "markdown",
   "metadata": {},
   "source": [
    "- It is notable that the error margin is lowest when demand is directly allocated based on population raised to the power 1"
   ]
  },
  {
   "cell_type": "code",
   "execution_count": null,
   "metadata": {},
   "outputs": [],
   "source": [
    "reeds_hourly_pop_2012 = demand_allocation(final_disagg_layer_2012,\n",
    "                                          pa_demand_ferc714_df_2012,\n",
    "                                          attributes_2012,\n",
    "                                          aggregators=\"pca\")\n",
    "\n",
    "reeds_compare_2012 = compare_allocation(reeds_hourly_pop_2012, reeds_hourly_2012, \"pca\")"
   ]
  },
  {
   "cell_type": "markdown",
   "metadata": {},
   "source": [
    "### Parity Plot"
   ]
  },
  {
   "cell_type": "code",
   "execution_count": null,
   "metadata": {},
   "outputs": [],
   "source": [
    "%%time\n",
    "corr_fig(reeds_compare_2012.copy(), TX_PCAs,\n",
    "         suptitle=\"Allocated demand for TX in 2012\", top=0.94)"
   ]
  },
  {
   "cell_type": "markdown",
   "metadata": {},
   "source": [
    "### Seasonal Errors and NA values"
   ]
  },
  {
   "cell_type": "code",
   "execution_count": null,
   "metadata": {},
   "outputs": [],
   "source": [
    "%%time\n",
    "error_fig(reeds_compare_2012.copy(), select_regions=TX_PCAs)"
   ]
  },
  {
   "cell_type": "markdown",
   "metadata": {},
   "source": [
    "### Regional Demand Profiles"
   ]
  },
  {
   "cell_type": "code",
   "execution_count": null,
   "metadata": {
    "scrolled": false
   },
   "outputs": [],
   "source": [
    "%%time\n",
    "regional_demand_profiles(reeds_compare_2012.copy(), TX_PCAs, agg=False)"
   ]
  },
  {
   "cell_type": "markdown",
   "metadata": {},
   "source": [
    "### Uncovered Areas"
   ]
  },
  {
   "cell_type": "code",
   "execution_count": null,
   "metadata": {},
   "outputs": [],
   "source": [
    "%%time\n",
    "uncovered_area_mismatch(final_disagg_layer_2012, reeds_gdf)"
   ]
  },
  {
   "cell_type": "markdown",
   "metadata": {},
   "source": [
    "### Yearly-Hourly Heatmap\n",
    "- Used to compare seasonal errors over a period "
   ]
  },
  {
   "cell_type": "code",
   "execution_count": null,
   "metadata": {
    "scrolled": true
   },
   "outputs": [],
   "source": [
    "# %%time\n",
    "# error_heatmap(reeds_hourly_pop_2012.copy(), reeds_hourly_2012.copy(), demand_columns_2012, error_metric=\"mse\",\n",
    "#               leap_exception=True)"
   ]
  },
  {
   "cell_type": "markdown",
   "metadata": {},
   "source": [
    "## Save Allocated Demand Time-series\n",
    "\n",
    "* Allocating solely based on population"
   ]
  },
  {
   "cell_type": "code",
   "execution_count": null,
   "metadata": {},
   "outputs": [],
   "source": [
    "# reeds_annual_list = []\n",
    "\n",
    "# for annual in range(2006, 2020):\n",
    "    \n",
    "#     logger.info(\"Extracting county mapping for year \" + str(annual))\n",
    "#     ba_county_map_annual = annual_demand_county_mapping(ba_county_map, county_gdf, rep_year=annual)\n",
    "\n",
    "#     attributes_annual = dict()\n",
    "#     logger.info(\"Creating attributes dictionary\")\n",
    "#     for col in list(reeds_gdf.columns) + list(ba_county_map_annual.columns):\n",
    "\n",
    "#         if col == \"respondent_id_ferc714\":\n",
    "#             attributes_annual[col] = \"id\"\n",
    "\n",
    "#         elif col == \"population\":\n",
    "#             attributes_annual[col] = \"uniform\"\n",
    "\n",
    "#         elif col != \"geometry\":\n",
    "#             attributes_annual[col] = \"constant\"\n",
    "\n",
    "#     logger.info(\"Disaggregating the county-planning area-REEDS shapefiles\")\n",
    "#     final_disagg_layer_annual = layer_intersection(ba_county_map_annual, reeds_gdf, attributes_annual)\n",
    "\n",
    "#     logger.info(\"Extracting annual demand and mapping data\")\n",
    "#     annual_demand_mapping_timeseries(reporting_year,\n",
    "#                                      merge_dfs,\n",
    "#                                      ba_county_map=None,\n",
    "#                                      pa_demand_ferc714_df=None)\n",
    "\n",
    "\n",
    "#     reeds_hourly_pop_annual, geo_layer_annual = allocate_and_aggregate(final_disagg_layer_annual_sel.copy(),\n",
    "#                                                                attributes=attributes_annual,\n",
    "#                                                                timeseries=pa_demand_ferc714_df_annual.copy(),\n",
    "#                                                                aggregators=\"pca\",\n",
    "#                                                                allocatees=demand_columns_annual)\n",
    "    \n",
    "#     reeds_annual_list.append(reeds_hourly_pop_annual.copy())"
   ]
  },
  {
   "cell_type": "code",
   "execution_count": null,
   "metadata": {},
   "outputs": [],
   "source": [
    "# for i, df in enumerate(reeds_annual_list):\n",
    "    \n",
    "#     if i == 0:\n",
    "#         df_sum = df.drop(\"geometry\", axis=1).set_index(\"pca\")\n",
    "        \n",
    "#     else:\n",
    "#         df_sum = df_sum.add(df.drop(\"geometry\", axis=1).set_index(\"pca\"), fill_value=0).replace(0, np.nan)\n",
    "        \n",
    "# df_sum = (df_sum\n",
    "#           .reset_index()\n",
    "#           .set_index(\"pca\")\n",
    "#           .stack()\n",
    "#           .reset_index()\n",
    "#           .rename(columns={\"level_1\": \"utc_datetime\", 0: \"demand_mwh\"})\n",
    "#           .pivot_table(columns=\"pca\", values=\"demand_mwh\", index=\"utc_datetime\")\n",
    "#           .reset_index()\n",
    "#           .sort_values(\"utc_datetime\")[[\"utc_datetime\"] + [\"p\"+str(num) for num in range(1, 135)]]\n",
    "#          )\n",
    "\n",
    "# # df_sum.to_csv(\"reeds_allocated_demand.csv\", index=False)"
   ]
  },
  {
   "cell_type": "markdown",
   "metadata": {},
   "source": [
    "* Allocating based on customer class and residential data"
   ]
  },
  {
   "cell_type": "code",
   "execution_count": null,
   "metadata": {},
   "outputs": [],
   "source": [
    "# df_sales_ratio = sales_ratio_by_class_fips(pudl_out)\n",
    "\n",
    "# reeds_annual_list_customer = []\n",
    "\n",
    "# for annual in range(2006, 2020):\n",
    "    \n",
    "#     logger.info(\"Extracting county mapping for year \" + str(annual))\n",
    "#     ba_county_map_annual = annual_demand_county_mapping(ba_county_map, county_gdf, rep_year=annual)\n",
    "\n",
    "#     attributes_annual = dict()\n",
    "#     logger.info(\"Creating attributes dictionary\")\n",
    "#     for col in list(reeds_gdf.columns) + list(ba_county_map_annual.columns):\n",
    "\n",
    "#         if col == \"respondent_id_ferc714\":\n",
    "#             attributes_annual[col] = \"id\"\n",
    "\n",
    "#         elif col == \"population\":\n",
    "#             attributes_annual[col] = \"uniform\"\n",
    "\n",
    "#         elif col != \"geometry\":\n",
    "#             attributes_annual[col] = \"constant\"\n",
    "\n",
    "#     logger.info(\"Disaggregating the county-planning area-REEDS shapefiles\")\n",
    "#     final_disagg_layer_annual = layer_intersection(ba_county_map_annual, reeds_gdf, attributes_annual)\n",
    "\n",
    "#     logger.info(\"Extracting annual demand data\")\n",
    "#     pa_demand_ferc714_df_annual = annual_ferc_data(pa_demand_ferc714_df.copy(), rep_year=annual)\n",
    "\n",
    "#     demand_columns_annual = [col for col in pa_demand_ferc714_df_annual.columns if type(col) != str]\n",
    "    \n",
    "#     final_disagg_layer_annual_sel = (final_disagg_layer_annual[\n",
    "#         final_disagg_layer_annual[\"respondent_id_ferc714\"].isin(\n",
    "#             pa_demand_ferc714_df_annual[\"respondent_id_ferc714\"]\n",
    "#         )])\n",
    "    \n",
    "#     df_sales_ratio_annual = df_sales_ratio[\n",
    "#     df_sales_ratio[\"report_date\"].dt.year == annual].drop([\"report_date\", \"other\", \"transportation\"], axis=1)\n",
    "\n",
    "#     final_disagg_layer_annual_sel = final_disagg_layer_annual_sel.merge(df_sales_ratio_annual, how=\"left\")\n",
    "\n",
    "#     reeds_hourly_pop_annual, geo_layer_annual = allocate_and_aggregate(final_disagg_layer_annual_sel.copy(),\n",
    "#                                                                        attributes=attributes_annual,\n",
    "#                                                                        allocators=[\"population\", \"residential\"],\n",
    "#                                                                        alloc_exps=[1, -1],\n",
    "#                                                                        timeseries=pa_demand_ferc714_df_annual.copy(),\n",
    "#                                                                        aggregators=\"pca\",\n",
    "#                                                                        allocatees=demand_columns_annual)\n",
    "    \n",
    "#     reeds_annual_list_customer.append(reeds_hourly_pop_annual.copy())"
   ]
  },
  {
   "cell_type": "code",
   "execution_count": null,
   "metadata": {},
   "outputs": [],
   "source": [
    "\n",
    "\n",
    "# for i, df in enumerate(reeds_annual_list_customer):\n",
    "    \n",
    "#     if i == 0:\n",
    "#         df_sum_mod = df.drop(\"geometry\", axis=1).set_index(\"pca\")\n",
    "        \n",
    "#     else:\n",
    "#         df_sum_mod = df_sum_mod.add(df.drop(\"geometry\", axis=1).set_index(\"pca\"), fill_value=0).replace(0, np.nan)\n",
    "        \n",
    "# df_sum_mod = (df_sum_mod\n",
    "#               .reset_index()\n",
    "#               .set_index(\"pca\")\n",
    "#               .stack()\n",
    "#               .reset_index()\n",
    "#               .rename(columns={\"level_1\": \"utc_datetime\", 0: \"demand_mwh\"})\n",
    "#               .pivot_table(columns=\"pca\", values=\"demand_mwh\", index=\"utc_datetime\")\n",
    "#               .reset_index()\n",
    "#               .sort_values(\"utc_datetime\")[[\"utc_datetime\"] + [\"p\"+str(num) for num in range(1, 135)]]\n",
    "#          )\n",
    "\n",
    "# # df_sum_mod.to_csv(\"reeds_data_alloc_pop_cust.csv\", index=False)"
   ]
  },
  {
   "cell_type": "markdown",
   "metadata": {},
   "source": [
    "## Comparing 2012 REEDS to Allocated Data"
   ]
  },
  {
   "cell_type": "code",
   "execution_count": null,
   "metadata": {},
   "outputs": [],
   "source": [
    "# reeds_pop_cust_alloc = (pd.read_csv(\"reeds_data_alloc_pop_cust.csv\")\n",
    "#                         .set_index(\"utc_datetime\")\n",
    "#                         .stack()\n",
    "#                         .reset_index()\n",
    "#                         .rename(columns={\"level_1\":\"pca\", 0:\"demand_mwh\"}))\n",
    "\n",
    "# reeds_pop_alloc = (pd.read_csv(\"reeds_allocated_demand.csv\")\n",
    "#                         .set_index(\"utc_datetime\")\n",
    "#                         .stack()\n",
    "#                         .reset_index()\n",
    "#                         .rename(columns={\"level_1\":\"pca\", 0:\"demand_mwh\"}))\n",
    "\n",
    "# reeds_pop_alloc[\"utc_datetime\"] = pd.to_datetime(reeds_pop_alloc[\"utc_datetime\"])\n",
    "# reeds_pop_cust_alloc[\"utc_datetime\"] = pd.to_datetime(reeds_pop_cust_alloc[\"utc_datetime\"])"
   ]
  },
  {
   "cell_type": "code",
   "execution_count": null,
   "metadata": {},
   "outputs": [],
   "source": [
    "# reeds_meas_2012 = (reeds_hourly_2012\n",
    "#                    .drop(\"geometry\",axis=1)\n",
    "#                    .set_index(\"pca\").T\n",
    "#                    .reset_index()\n",
    "#                    .rename(columns={\"index\":\"utc_datetime\"})\n",
    "#                    .set_index(\"utc_datetime\")\n",
    "#                    .stack().reset_index().rename(columns={0:\"demand_mwh\"}))"
   ]
  },
  {
   "cell_type": "code",
   "execution_count": null,
   "metadata": {},
   "outputs": [],
   "source": [
    "# reeds_check = (reeds_meas_2012\n",
    "#                .merge(reeds_pop_alloc, how=\"inner\", on=[\"pca\", \"utc_datetime\"], suffixes=('', '_pop'))\n",
    "#                .merge(reeds_pop_cust_alloc, how=\"inner\", on=[\"pca\", \"utc_datetime\"], suffixes=('_meas', '_cust_pop'))\n",
    "#                .replace(0, np.nan))\n",
    "\n",
    "# reeds_check"
   ]
  },
  {
   "cell_type": "code",
   "execution_count": null,
   "metadata": {},
   "outputs": [],
   "source": [
    "# _, ax = plt.subplots()\n",
    "# ax.hist(reeds_check[\"demand_mwh_pop\"] / reeds_check[\"demand_mwh_meas\"], alpha=0.5, bins=[x+0.1 for x in np.linspace(-3, 3, num=31)], label=\"by population\")\n",
    "# ax.hist(reeds_check[\"demand_mwh_cust_pop\"] / reeds_check[\"demand_mwh_meas\"], alpha=0.5, bins=[x+0.1 for x in np.linspace(-3, 3, num=31)], label=\"by population (adjusted)\")\n",
    "# plt.legend(loc=\"upper left\")\n",
    "# plt.title(\"Ratio of predicted demand with measured demand (2012 REEDS)\")\n",
    "# plt.show()"
   ]
  }
 ],
 "metadata": {
  "kernelspec": {
   "display_name": "pudl-dev",
   "language": "python",
   "name": "pudl-dev"
  },
  "language_info": {
   "codemirror_mode": {
    "name": "ipython",
    "version": 3
   },
   "file_extension": ".py",
   "mimetype": "text/x-python",
   "name": "python",
   "nbconvert_exporter": "python",
   "pygments_lexer": "ipython3",
   "version": "3.8.5"
  }
 },
 "nbformat": 4,
 "nbformat_minor": 4
}
