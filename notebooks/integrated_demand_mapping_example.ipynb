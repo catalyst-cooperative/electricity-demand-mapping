{
 "cells": [
  {
   "cell_type": "code",
   "execution_count": null,
   "metadata": {},
   "outputs": [],
   "source": [
    "%load_ext autoreload\n",
    "%autoreload 2"
   ]
  },
  {
   "cell_type": "code",
   "execution_count": null,
   "metadata": {},
   "outputs": [],
   "source": [
    "import calendar\n",
    "import logging\n",
    "import pathlib\n",
    "import zipfile\n",
    "\n",
    "from datetime import timedelta\n",
    "import datetime\n",
    "\n",
    "import geopandas\n",
    "from geopandas import gpd\n",
    "import numpy as np\n",
    "import pandas as pd\n",
    "import requests\n",
    "from geopandas import GeoDataFrame\n",
    "from shapely.geometry import GeometryCollection, MultiPolygon, Polygon\n",
    "from shapely.ops import unary_union\n",
    "from tqdm import tqdm\n",
    "import seaborn as sns\n",
    "import matplotlib as mpl\n",
    "import sys\n",
    "\n",
    "logger = logging.getLogger(__name__)\n",
    "\n",
    "from shapely.geometry import Polygon, MultiPolygon\n",
    "\n",
    "from pudl.analysis.demand_mapping import (corr_fig, error_heatmap, error_na_fig, compare_datasets,\n",
    "                                          regional_demand_profiles, vec_error, uncovered_area_mismatch,\n",
    "                                          layer_intersection, allocate_and_aggregate)\n",
    "\n",
    "from pudl.output.ferc714 import Respondents\n",
    "import matplotlib.pyplot as plt\n",
    "import matplotlib as mpl\n",
    "\n",
    "%matplotlib inline\n",
    "\n",
    "import scipy\n",
    "from collections import defaultdict\n",
    "from IPython.display import clear_output\n",
    "import pudl\n",
    "\n",
    "from pudl.helpers import download_zip_url\n",
    "from pudl.transform.ferc714 import OFFSET_CODES, TZ_CODES\n",
    "import addfips\n",
    "\n",
    "import sqlalchemy as sa"
   ]
  },
  {
   "cell_type": "code",
   "execution_count": null,
   "metadata": {},
   "outputs": [],
   "source": [
    "## Not set for map visualization\n",
    "sns.set()\n",
    "%matplotlib inline\n",
    "mpl.rcParams['figure.figsize'] = (10,4)\n",
    "mpl.rcParams['figure.dpi'] = 150\n",
    "pd.options.display.max_columns = 100\n",
    "pd.options.display.max_rows = 100"
   ]
  },
  {
   "cell_type": "code",
   "execution_count": null,
   "metadata": {},
   "outputs": [],
   "source": [
    "logger = logging.getLogger()\n",
    "logger.setLevel(logging.INFO)\n",
    "handler = logging.StreamHandler(stream=sys.stdout)\n",
    "log_format = '%(asctime)s [%(levelname)8s] %(name)s:%(lineno)s %(message)s'\n",
    "formatter = logging.Formatter(log_format)\n",
    "handler.setFormatter(formatter)\n",
    "logger.handlers = [handler]"
   ]
  },
  {
   "cell_type": "markdown",
   "metadata": {},
   "source": [
    "# Define notebook parameters"
   ]
  },
  {
   "cell_type": "code",
   "execution_count": null,
   "metadata": {},
   "outputs": [],
   "source": [
    "pudl_settings = pudl.workspace.setup.get_defaults()\n",
    "pudl_engine = sa.create_engine(pudl_settings['pudl_db'])\n",
    "\n",
    "local_data = pathlib.Path(pudl_settings[\"data_dir\"]) / \"local\""
   ]
  },
  {
   "cell_type": "markdown",
   "metadata": {},
   "source": [
    "# Importing and Loading Relevant Dataframes\n",
    "\n",
    "Major dataframes and tables being accessed:\n",
    "- FERC-714 databases used to allocate demand annually at the county level (part of the PUDL database)\n",
    "- Census databases for county shapefiles [Public]\n",
    "- 2010 and 2012 ReEDS regions hourly demand data [Private]\n",
    "- More coming..."
   ]
  },
  {
   "cell_type": "markdown",
   "metadata": {},
   "source": [
    "## County Shapefiles and Population Data"
   ]
  },
  {
   "cell_type": "code",
   "execution_count": null,
   "metadata": {},
   "outputs": [],
   "source": [
    "%%time\n",
    "uscb_census2010_url = \"http://www2.census.gov/geo/tiger/TIGER2010DP1/Profile-County_Tract.zip\"\n",
    "uscb_census2010_dir = local_data / \"uscb\" / \"census2010\"\n",
    "uscb_census2010_dir.mkdir(parents=True, exist_ok=True)\n",
    "\n",
    "uscb_census2010_zipfile = uscb_census2010_dir / \"census2010.zip\"\n",
    "uscb_census2010_gdb_dir = uscb_census2010_dir / \"census2010.gdb\"\n",
    "\n",
    "if not uscb_census2010_gdb_dir.is_dir():\n",
    "    logger.info(\"No Census GeoDB found. Downloading from US Census Bureau.\")\n",
    "    # Download to appropriate location\n",
    "    download_zip_url(uscb_census2010_url, uscb_census2010_zipfile)\n",
    "    # Unzip because we can't use zipfile paths with geopandas\n",
    "    with zipfile.ZipFile(uscb_census2010_zipfile, 'r') as zip_ref:\n",
    "        zip_ref.extractall(uscb_dir)\n",
    "        # Grab the UUID based directory name so we can change it:\n",
    "        extract_root = uscb_dir / pathlib.Path(zip_ref.filelist[0].filename).parent\n",
    "    extract_root.rename(uscb_census2010_gdb_dir)\n",
    "else:\n",
    "    logger.info(\"We've already got the 2010 Census GeoDB.\")\n",
    "\n",
    "logger.info(\"Extracting the GeoDB into a GeoDataFrame\")\n",
    "census_tract_gdf = gpd.read_file(uscb_census2010_gdb_dir, driver='FileGDB', layer='Tract_2010Census_DP1')\n",
    "\n",
    "## Creating columns for county and state level aggregation\n",
    "census_tract_gdf[\"STATE_FIPS\"] = census_tract_gdf[\"GEOID10\"].str[:2]\n",
    "census_tract_gdf[\"STATE_FIPS_int\"] = pd.to_numeric(census_tract_gdf[\"GEOID10\"].str[:2])\n",
    "census_tract_gdf[\"STCOFIPS\"] = census_tract_gdf[\"GEOID10\"].str[:5]\n",
    "\n",
    "census_tract_gdf = (\n",
    "    census_tract_gdf\n",
    "    # Remove all islands and non-mainland states and territories\n",
    "    .query(\"STATE_FIPS_int<=56 & STATE_FIPS_int not in (2, 15, 44)\")\n",
    "    # Project to US Albers conic equal-area projection\n",
    "    .to_crs(\"ESRI:102003\")\n",
    ")\n",
    "census_tract_gdf[\"SQMI\"] = census_tract_gdf.area / 10 ** 6 / 1.60934 ** 2\n",
    "census_tract_gdf = census_tract_gdf.rename(columns={\n",
    "    \"DP0010001\": \"POPULATION\",\n",
    "    \"GEOID10\": \"FIPS\"\n",
    "})\n",
    "census_tract_gdf.drop(\"STATE_FIPS_int\", axis=1)\n",
    "census_tract_gdf.sample(5)\n",
    "\n",
    "logger.info(\"Dissolving census tracts to form counties\")\n",
    "county_gdf =  census_tract_gdf[[\"STCOFIPS\", \"POPULATION\", \"geometry\"]].dissolve(by=\"STCOFIPS\",\n",
    "                                                                              aggfunc=np.sum,\n",
    "                                                                              as_index=False)\n",
    "\n",
    "county_gdf = (county_gdf[[\"STCOFIPS\", \"POPULATION\", \"geometry\"]]\n",
    "              .rename(columns={\"STCOFIPS\":\"county_id_fips\"}))\n",
    "\n",
    "# county_gdf.to_file(str(local_data / \"counties.shp\"))"
   ]
  },
  {
   "cell_type": "markdown",
   "metadata": {},
   "source": [
    "## County-Planning Area Mapping Dataset\n",
    "- `ba_county_map` contains pairwise rows signifying which county have been supplied by which utility in each reporting year "
   ]
  },
  {
   "cell_type": "code",
   "execution_count": null,
   "metadata": {},
   "outputs": [],
   "source": [
    "%%time\n",
    "pudl_out = pudl.output.pudltabl.PudlTabl(pudl_engine=pudl_engine)\n",
    "ferc714_out = pudl.output.ferc714.Respondents(pudl_out)\n",
    "ba_county_map = ferc714_out.georef_counties()"
   ]
  },
  {
   "cell_type": "markdown",
   "metadata": {},
   "source": [
    "## REEDS Data\n",
    "- Some of the REEDS public data is not readily accessible\n",
    "- If that is the case, extract the timeseries data and the shapefile"
   ]
  },
  {
   "cell_type": "markdown",
   "metadata": {},
   "source": [
    "### REEDS Shapefiles"
   ]
  },
  {
   "cell_type": "code",
   "execution_count": null,
   "metadata": {},
   "outputs": [],
   "source": [
    "%%time\n",
    "reeds_gdf_path = local_data / \"nrel/reeds_shp\"\n",
    "if not reeds_gdf_path.is_dir():\n",
    "    raise FileNotFoundError(\n",
    "        f\"ReEDS Balancing Area geometries not found.\"\n",
    "        f\"Expected them at {reeds_path}\"\n",
    "    )\n",
    "reeds_gdf = gpd.read_file(reeds_gdf_path)\n",
    "reeds_gdf[\"geometry\"] = reeds_gdf[\"geometry\"].apply(lambda x: x.buffer(0))\n",
    "\n",
    "reeds_gdf = (\n",
    "    reeds_gdf.assign(pca_num=lambda x: pd.to_numeric(x.pca.replace(\"^p\", value=\"\", regex=True)))\n",
    "    .query(\"pca_num<=134\")\n",
    "    .to_crs(\"ESRI:102003\")\n",
    ")\n",
    "\n",
    "reeds_gdf.drop([\"Shape_Leng\", \"Shape_Area\", \"OBJECTID\", \"gid\", \"demreg2\", \"pca_num\"], axis=1, inplace=True)\n",
    "reeds_gdf = reeds_gdf.dissolve(by=[\"pca\"], as_index=False)"
   ]
  },
  {
   "cell_type": "markdown",
   "metadata": {},
   "source": [
    "### 2010 REEDS Hourly Data"
   ]
  },
  {
   "cell_type": "code",
   "execution_count": null,
   "metadata": {},
   "outputs": [],
   "source": [
    "logger.info(\"Loading REEDS 2010 hourly demand data\")\n",
    "reeds_hourly_2010 = (pd.read_csv(str(local_data / \"nrel\" / \"reeds_load_2010_est_time.csv\"),\n",
    "                                 infer_datetime_format=True,\n",
    "                                 parse_dates=[\"est_time\"]))\n",
    "\n",
    "logger.info(\"Converting local hourly demand data to UTC datetime for consistency\")\n",
    "reeds_hourly_2010[\"utc_datetime\"] = reeds_hourly_2010[\"est_time\"] - OFFSET_CODES[\"EST\"]\n",
    "\n",
    "\n",
    "reeds_hourly_2010 = (reeds_hourly_2010\n",
    "                     .drop(\"est_time\", axis=1)\n",
    "                     .set_index(\"utc_datetime\").T\n",
    "                     .reset_index()\n",
    "                     .rename(columns={\"index\":\"pca\"})\n",
    "                     .merge(reeds_gdf))"
   ]
  },
  {
   "cell_type": "markdown",
   "metadata": {},
   "source": [
    "### 2012 REEDS Hourly Data"
   ]
  },
  {
   "cell_type": "code",
   "execution_count": null,
   "metadata": {},
   "outputs": [],
   "source": [
    "reeds_hourly_2012 = (pd.read_csv(str(local_data / \"nrel\" / \"reeds_load_2012_est_time.csv\"),\n",
    "                                 infer_datetime_format=True,\n",
    "                                 parse_dates=[\"est_time\"]))\n",
    "\n",
    "reeds_hourly_2012[\"utc_datetime\"] = reeds_hourly_2012[\"est_time\"] - OFFSET_CODES[\"EST\"]\n",
    "\n",
    "reeds_hourly_2012 = (reeds_hourly_2012\n",
    "                     .drop(\"est_time\", axis=1)\n",
    "                     .set_index(\"utc_datetime\").T\n",
    "                     .reset_index()\n",
    "                     .rename(columns={\"index\":\"pca\"})\n",
    "                     .merge(reeds_gdf))"
   ]
  },
  {
   "cell_type": "markdown",
   "metadata": {},
   "source": [
    "## FERC 714 Time Series Data\n",
    "- The `pa_demand_ferc714_df` variable stores the hourly demand data for each planning area \n",
    "- One year of data is analyzed at a time"
   ]
  },
  {
   "cell_type": "code",
   "execution_count": null,
   "metadata": {},
   "outputs": [],
   "source": [
    "%%time\n",
    "\n",
    "ferc714_url = \"https://www.ferc.gov/sites/default/files/2020-06/form714-database-June-2020.zip\"\n",
    "ferc714_dir = local_data / \"ferc714\"\n",
    "ferc714_dir.mkdir(parents=True, exist_ok=True)\n",
    "\n",
    "ferc714_save_path = ferc714_dir / \"ferc714.zip\"\n",
    "if ferc714_save_path.exists():\n",
    "    logger.info(\"Already have FERC 714 data, not downloading.\")\n",
    "else:\n",
    "    logger.info(\"Downloading fresh FERC 714 data.\")\n",
    "    download_zip_url(ferc714_url, ferc714_save_path)\n",
    "\n",
    "raw_ferc714_dfs = pudl.extract.ferc714.extract(pudl_settings=pudl_settings)\n",
    "tfr_ferc714_dfs = pudl.transform.ferc714.transform(raw_ferc714_dfs)\n",
    "pa_demand_ferc714_df = pd.merge(\n",
    "    tfr_ferc714_dfs[\"demand_hourly_pa_ferc714\"],\n",
    "    tfr_ferc714_dfs[\"respondent_id_ferc714\"]\n",
    ")"
   ]
  },
  {
   "cell_type": "code",
   "execution_count": null,
   "metadata": {},
   "outputs": [],
   "source": [
    "def annual_ferc_data(pa_demand_ferc714_df, final_disagg_layer, rep_year):\n",
    "\n",
    "    # Focusing on one year\n",
    "    pa_demand_ferc714_df_annual = pa_demand_ferc714_df[pa_demand_ferc714_df[\"report_date\"].dt.year==rep_year]\n",
    "    \n",
    "#     .query(\"report_year == \"+str(rep_year))\n",
    "\n",
    "    # Pivoting to the right format for the merge\n",
    "    pa_demand_ferc714_df_annual = pa_demand_ferc714_df_annual.pivot_table(values=\"demand_mwh\",\n",
    "                                                                          index=\"respondent_id_ferc714\",\n",
    "                                                                          columns=\"utc_datetime\",\n",
    "                                                                          aggfunc=np.mean)\n",
    "    \n",
    "    pa_demand_ferc714_df_annual.reset_index(inplace=True)\n",
    "\n",
    "    # Removing respondents with no mapping\n",
    "    pa_demand_ferc714_df_annual = pa_demand_ferc714_df_annual[\n",
    "        pa_demand_ferc714_df_annual[\"respondent_id_ferc714\"]\n",
    "        .isin(final_disagg_layer[\"respondent_id_ferc714\"].unique())]\n",
    "    \n",
    "    pa_demand_ferc714_df_annual.reset_index(drop=True, inplace=True)\n",
    "    \n",
    "    return pa_demand_ferc714_df_annual"
   ]
  },
  {
   "cell_type": "markdown",
   "metadata": {},
   "source": [
    "# 2012 Demand Data Analysis\n",
    "\n",
    "- Allocating 2012 US mainland hourly demand data disaggregated to the county level and re-aggregated to any other disjoint geometry series based on available FERC714 data\n",
    "- The data is compared to REEDS 2012 hourly demand data"
   ]
  },
  {
   "cell_type": "code",
   "execution_count": null,
   "metadata": {},
   "outputs": [],
   "source": [
    "def annual_demand_county_mapping(ba_county_map, county_gdf, rep_year=2010):\n",
    "    \"\"\"\n",
    "    Function to extract a single year of demand\n",
    "    \"\"\"\n",
    "    ba_county_map_yr = (ba_county_map.query(\"report_date >= \" + str(rep_year) + \"0101 \\\n",
    "                                             & report_date < \" + str(rep_year + 1) + \"0101\")\n",
    "                        .to_crs(\"ESRI:102003\"))\n",
    "#                                              & has_demand == True\")\n",
    "\n",
    "    ba_county_id_set = (ba_county_map_yr\n",
    "                        .groupby([\"county_id_fips\", \"state\", \"state_id_fips\"])[\"respondent_id_ferc714\"]\n",
    "                        .agg(frozenset).reset_index()\n",
    "                        .rename(columns={\"respondent_id_ferc714\":\"respondent_id_ferc714_set\"}))\n",
    "    \n",
    "    ba_county_map_yr = (ba_county_map_yr\n",
    "                        .merge(ba_county_id_set)\n",
    "                        .merge(county_gdf.drop(\"geometry\", axis=1))\n",
    "                       )\n",
    "\n",
    "    \n",
    "    ba_county_map_yr = ba_county_map_yr.merge(ba_county_id_set)\n",
    "\n",
    "    ba_county_map_yr.drop([\"balancing_authority_id_eia\",\n",
    "                             \"balancing_authority_name_eia\", \"utility_id_eia\",\n",
    "                             \"utility_name_eia\"], axis=1, inplace=True)\n",
    "    \n",
    "    return ba_county_map_yr\n",
    "\n"
   ]
  },
  {
   "cell_type": "code",
   "execution_count": null,
   "metadata": {},
   "outputs": [],
   "source": [
    "%%time\n",
    "\n",
    "ba_county_map_2012 = annual_demand_county_mapping(ba_county_map, county_gdf, rep_year=2012)\n",
    "\n",
    "attributes_2012 = dict()\n",
    "for col in list(reeds_gdf.columns) + list(ba_county_map_2012.columns):\n",
    "    \n",
    "    if col == \"respondent_id_ferc714\":\n",
    "        attributes_2012[col] = \"ID\"\n",
    "        \n",
    "    elif col == \"POPULATION\":\n",
    "        attributes_2012[col] = \"uniform\"\n",
    "        \n",
    "    elif col != \"geometry\":\n",
    "        attributes_2012[col] = \"constant\"\n",
    "\n",
    "final_disagg_layer_2012 = layer_intersection(ba_county_map_2012, reeds_gdf, attributes_2012)\n",
    "pa_demand_ferc714_df_2012 = annual_ferc_data(pa_demand_ferc714_df.copy(),\n",
    "                                             final_disagg_layer=final_disagg_layer_2012.copy(),\n",
    "                                             rep_year=2012)\n",
    "\n",
    "demand_columns_2012 = [col for col in pa_demand_ferc714_df_2012.columns if type(col) != str]"
   ]
  },
  {
   "cell_type": "markdown",
   "metadata": {},
   "source": [
    "## Allocate FERC714 Data for 2012\n",
    "- The `allocate_and_aggregate` function takes care of the allocation and aggregation (if required) based on the parameters in the function definition"
   ]
  },
  {
   "cell_type": "code",
   "execution_count": null,
   "metadata": {},
   "outputs": [],
   "source": [
    "%%time\n",
    "\n",
    "\n",
    "final_disagg_layer_2012_sel = final_disagg_layer_2012[final_disagg_layer_2012[\"respondent_id_ferc714\"].isin(\n",
    "    pa_demand_ferc714_df_2012[\"respondent_id_ferc714\"]\n",
    ")]\n",
    "\n",
    "reeds_hourly_pop_2012, geo_layer_2012 = allocate_and_aggregate(final_disagg_layer_2012_sel.copy(),\n",
    "                                                               attributes=attributes_2012,\n",
    "                                                               timeseries=pa_demand_ferc714_df_2012.copy(),\n",
    "                                                               aggregators=\"pca\",\n",
    "                                                               allocatees=demand_columns_2012)"
   ]
  },
  {
   "cell_type": "markdown",
   "metadata": {},
   "source": [
    "### REEDS Regions\n",
    "- Some suggestive REEDS PCA regions mentioned\n",
    "- We are using Texas for our analysis"
   ]
  },
  {
   "cell_type": "code",
   "execution_count": null,
   "metadata": {},
   "outputs": [],
   "source": [
    "TX_PCAs = ['p60', 'p61', 'p62', 'p63', 'p64', 'p65', 'p67']\n",
    "CO_PCAs = [\"p33\", \"p34\"]\n",
    "NM_PCAs = [\"p31\", \"p47\"]\n",
    "LA_PCAs = [\"p58\", \"p86\"]"
   ]
  },
  {
   "cell_type": "markdown",
   "metadata": {},
   "source": [
    "## 2012 REEDS Analysis\n",
    "- Allocating demand solely based on population and its exponents\n",
    "- i.e. demand may be allocated based on population, or population^2... and accordingly the minimum error is compared to the REEDS data for best fit"
   ]
  },
  {
   "cell_type": "code",
   "execution_count": null,
   "metadata": {},
   "outputs": [],
   "source": [
    "%%time\n",
    "reeds_errs_2012_TX = []\n",
    "reeds_exps_2012_TX = [-1, -0.75, -0.5, -0.25, 0, 0.25, 0.5, 0.75, 1, 1.5, 2, 3]\n",
    "\n",
    "\n",
    "for i, exp in enumerate(reeds_exps_2012_TX):\n",
    "    \n",
    "    print(\"Iteration \" + str(i) + \": Calculation for exponent \" + str(exp))\n",
    "    reeds_hourly_pop_2012 = allocate_and_aggregate(final_disagg_layer_2012_sel.copy(),\n",
    "                                                   attributes=attributes_2012,\n",
    "                                                   timeseries=pa_demand_ferc714_df_2012.copy(),\n",
    "                                                   aggregators=\"pca\", allocatees=demand_columns_2012,\n",
    "                                                   geo_layer=geo_layer_2012.copy(), alloc_exps=exp)\n",
    "\n",
    "    reeds_compare_2012_TX = compare_datasets(reeds_hourly_pop_2012.copy(), reeds_hourly_2012.copy(),\n",
    "                                          demand_columns_2012, TX_PCAs, time_col=\"utc_datetime\", region=\"pca\")\n",
    "    \n",
    "    mse_err = np.nanmean(reeds_compare_2012_TX.eval(\"(actual - alloc) ** 2\"))\n",
    "    reeds_errs_2012_TX.append(mse_err)\n",
    "    clear_output()\n",
    "\n",
    "\n",
    "reeds_err_df_2012_TX = pd.DataFrame({\n",
    "    \"exponent\": reeds_exps_2012_TX,\n",
    "    \"errors\": reeds_errs_2012_TX\n",
    "})\n",
    "plt.plot(\"exponent\", \"errors\", data=reeds_err_df_2012_TX.sort_values(\"exponent\"))"
   ]
  },
  {
   "cell_type": "markdown",
   "metadata": {},
   "source": [
    "- It is notable that the error margin is lowest when demand is directly allocated based on population raised to the power 1"
   ]
  },
  {
   "cell_type": "code",
   "execution_count": null,
   "metadata": {},
   "outputs": [],
   "source": [
    "reeds_hourly_pop_2012 = allocate_and_aggregate(final_disagg_layer_2012_sel.copy(),\n",
    "                                 attributes=attributes_2012,timeseries=pa_demand_ferc714_df_2012.copy(),\n",
    "                                 aggregators=\"pca\", allocatees=demand_columns_2012,\n",
    "                                 geo_layer=geo_layer_2012.copy(), alloc_exps=1)\n",
    "\n",
    "reeds_compare_2012 = compare_datasets(alloc_demand=reeds_hourly_pop_2012.copy(),\n",
    "                                      actual_demand=reeds_hourly_2012.copy(),\n",
    "                                      demand_columns=demand_columns_2012,\n",
    "                                      select_regions=list(reeds_hourly_2012[\"pca\"].unique()))\n",
    "\n",
    "\n",
    "# create_figs(reeds_compare_2012.copy())"
   ]
  },
  {
   "cell_type": "markdown",
   "metadata": {},
   "source": [
    "### Parity Plot"
   ]
  },
  {
   "cell_type": "code",
   "execution_count": null,
   "metadata": {
    "scrolled": false
   },
   "outputs": [],
   "source": [
    "corr_fig(reeds_compare_2012[reeds_compare_2012[\"region\"].isin(TX_PCAs)].copy(),\n",
    "         suptitle=\"Allocated demand for TX in 2012\")"
   ]
  },
  {
   "cell_type": "markdown",
   "metadata": {},
   "source": [
    "### Seasonal Errors and NA values"
   ]
  },
  {
   "cell_type": "code",
   "execution_count": null,
   "metadata": {},
   "outputs": [],
   "source": [
    "error_na_fig(reeds_compare_2012[reeds_compare_2012[\"region\"].isin(TX_PCAs)].copy())"
   ]
  },
  {
   "cell_type": "markdown",
   "metadata": {},
   "source": [
    "### Regional Demand Profiles"
   ]
  },
  {
   "cell_type": "code",
   "execution_count": null,
   "metadata": {
    "scrolled": false
   },
   "outputs": [],
   "source": [
    "regional_demand_profiles(reeds_compare_2012.copy(), select_regions=TX_PCAs)"
   ]
  },
  {
   "cell_type": "markdown",
   "metadata": {},
   "source": [
    "### Uncovered Areas"
   ]
  },
  {
   "cell_type": "code",
   "execution_count": null,
   "metadata": {},
   "outputs": [],
   "source": [
    "uncovered_area_mismatch(GeoDataFrame(reeds_hourly_pop_2012.copy()), GeoDataFrame(reeds_hourly_2012.copy()))"
   ]
  },
  {
   "cell_type": "markdown",
   "metadata": {},
   "source": [
    "### Yearly-Hourly Heatmap\n",
    "- Used to compare seasonal errors over a period "
   ]
  },
  {
   "cell_type": "code",
   "execution_count": null,
   "metadata": {},
   "outputs": [],
   "source": [
    "error_heatmap(reeds_hourly_pop_2012.copy(), reeds_hourly_2012.copy(), demand_columns_2012, error_metric=\"mse\",\n",
    "              leap_exception=True)"
   ]
  }
 ],
 "metadata": {
  "kernelspec": {
   "display_name": "pudl-dev",
   "language": "python",
   "name": "pudl-dev"
  },
  "language_info": {
   "codemirror_mode": {
    "name": "ipython",
    "version": 3
   },
   "file_extension": ".py",
   "mimetype": "text/x-python",
   "name": "python",
   "nbconvert_exporter": "python",
   "pygments_lexer": "ipython3",
   "version": "3.8.5"
  }
 },
 "nbformat": 4,
 "nbformat_minor": 4
}
