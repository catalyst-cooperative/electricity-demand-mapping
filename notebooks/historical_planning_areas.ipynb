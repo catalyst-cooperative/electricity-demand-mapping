{
 "cells": [
  {
   "cell_type": "markdown",
   "metadata": {},
   "source": [
    "# Notebook Goal & Approach"
   ]
  },
  {
   "cell_type": "markdown",
   "metadata": {},
   "source": [
    "## Goal\n",
    "For each FERC 714 respondent that reports hourly demand as an electricity planning area, create a geometry representing the geographic area in which that electricity demand originated. Create a separate geometry for each year in which data is available."
   ]
  },
  {
   "cell_type": "markdown",
   "metadata": {},
   "source": [
    "## Approach\n",
    "* Use the `eia_code` found in the `respondent_id_ferc714` table to link FERC 714 respondents to their corresponding EIA utilities or balancing areas.\n",
    "* Use the `balancing_authority_eia861` and `sales_eia861` tables to figure out which respondents correspond to what utility or utilities (if a BA), and which states of operation.\n",
    "* Use the `service_territory_eia861` table to link those combinations of years, utilities, and states of operation to collections of counties.\n",
    "* Given the FIPS codes of the counties associated with each utility or balancing area in a given year, use geospatial data from the US Census to compile an annual demand area geometry.\n",
    "* Merge those geometries back in with the `respondent_id_ferc714` table, along with additional EIA balancing area and utility IDs / Codes on a per-year basis."
   ]
  },
  {
   "cell_type": "markdown",
   "metadata": {},
   "source": [
    "# Imports & Config"
   ]
  },
  {
   "cell_type": "code",
   "execution_count": null,
   "metadata": {},
   "outputs": [],
   "source": [
    "%load_ext autoreload\n",
    "%autoreload 2"
   ]
  },
  {
   "cell_type": "code",
   "execution_count": null,
   "metadata": {},
   "outputs": [],
   "source": [
    "# Standard Libraries:\n",
    "import dateutil\n",
    "import logging\n",
    "import pathlib\n",
    "import pickle\n",
    "import re\n",
    "import sys\n",
    "import zipfile\n",
    "\n",
    "# 3rd Party Libraries:\n",
    "import contextily as ctx\n",
    "import geopandas\n",
    "import matplotlib as mpl\n",
    "import matplotlib.pyplot as plt\n",
    "import numpy as np\n",
    "import pandas as pd\n",
    "import seaborn as sns\n",
    "import sqlalchemy as sa\n",
    "\n",
    "# Local Packages:\n",
    "import pudl"
   ]
  },
  {
   "cell_type": "markdown",
   "metadata": {},
   "source": [
    "## Configure Output Formatting"
   ]
  },
  {
   "cell_type": "code",
   "execution_count": null,
   "metadata": {},
   "outputs": [],
   "source": [
    "sns.set()\n",
    "%matplotlib inline"
   ]
  },
  {
   "cell_type": "code",
   "execution_count": null,
   "metadata": {},
   "outputs": [],
   "source": [
    "mpl.rcParams['figure.figsize'] = (20,8)\n",
    "mpl.rcParams['figure.dpi'] = 150\n",
    "pd.options.display.max_columns = 100\n",
    "pd.options.display.max_rows = 100"
   ]
  },
  {
   "cell_type": "markdown",
   "metadata": {},
   "source": [
    "## Logging"
   ]
  },
  {
   "cell_type": "code",
   "execution_count": null,
   "metadata": {},
   "outputs": [],
   "source": [
    "logger = logging.getLogger()\n",
    "logger.setLevel(logging.INFO)\n",
    "handler = logging.StreamHandler(stream=sys.stdout)\n",
    "log_format = '%(asctime)s [%(levelname)8s] %(name)s:%(lineno)s %(message)s'\n",
    "formatter = logging.Formatter(log_format)\n",
    "handler.setFormatter(formatter)\n",
    "logger.handlers = [handler]"
   ]
  },
  {
   "cell_type": "markdown",
   "metadata": {},
   "source": [
    "## PUDL Setup"
   ]
  },
  {
   "cell_type": "code",
   "execution_count": null,
   "metadata": {},
   "outputs": [],
   "source": [
    "pudl_settings = pudl.workspace.setup.get_defaults()\n",
    "ferc1_engine = sa.create_engine(pudl_settings['ferc1_db'])\n",
    "pudl_engine = sa.create_engine(pudl_settings['pudl_db'])\n",
    "pudl_out = pudl.output.pudltabl.PudlTabl(pudl_engine)\n",
    "pudl_settings"
   ]
  },
  {
   "cell_type": "markdown",
   "metadata": {},
   "source": [
    "# Parameters"
   ]
  },
  {
   "cell_type": "code",
   "execution_count": null,
   "metadata": {},
   "outputs": [],
   "source": [
    "MAP_CRS = \"EPSG:3857\"\n",
    "CALC_CRS = \"ESRI:102003\""
   ]
  },
  {
   "cell_type": "markdown",
   "metadata": {},
   "source": [
    "# Function Definitions"
   ]
  },
  {
   "cell_type": "markdown",
   "metadata": {},
   "source": [
    "## Dummy EIA 861 ETL"
   ]
  },
  {
   "cell_type": "code",
   "execution_count": null,
   "metadata": {},
   "outputs": [],
   "source": [
    "def test_etl_eia(eia_inputs, pudl_settings):\n",
    "    \"\"\"\n",
    "    This is a dummy function that runs the first part of the EIA ETL\n",
    "    process -- everything up until the entity harvesting begins. For\n",
    "    use in this notebook only.\n",
    "\n",
    "    \"\"\"\n",
    "    eia860_tables = eia_inputs[\"eia860_tables\"]\n",
    "    eia860_years = eia_inputs[\"eia860_years\"]\n",
    "    eia861_tables = eia_inputs[\"eia861_tables\"]\n",
    "    eia861_years = eia_inputs[\"eia861_years\"]\n",
    "    eia923_tables = eia_inputs[\"eia923_tables\"]\n",
    "    eia923_years = eia_inputs[\"eia923_years\"]\n",
    "\n",
    "    # generate CSVs for the static EIA tables, return the list of tables\n",
    "    #static_tables = _load_static_tables_eia(datapkg_dir)\n",
    "\n",
    "    # Extract EIA forms 923, 860\n",
    "    eia860_raw_dfs = pudl.extract.eia860.Extractor().extract(eia860_years, testing=True)\n",
    "    eia861_raw_dfs = pudl.extract.eia861.Extractor().extract(eia861_years, testing=True)\n",
    "    eia923_raw_dfs = pudl.extract.eia923.Extractor().extract(eia923_years, testing=True)\n",
    "\n",
    "    # Transform EIA forms 860, 861, 923\n",
    "    eia860_transformed_dfs = pudl.transform.eia860.transform(eia860_raw_dfs, eia860_tables=eia860_tables)\n",
    "    eia861_transformed_dfs = pudl.transform.eia861.transform(eia861_raw_dfs, eia861_tables=eia861_tables)\n",
    "    eia923_transformed_dfs = pudl.transform.eia923.transform(eia923_raw_dfs, eia923_tables=eia923_tables)\n",
    "\n",
    "    # create an eia transformed dfs dictionary\n",
    "    eia_transformed_dfs = eia860_transformed_dfs.copy()\n",
    "    eia_transformed_dfs.update(eia861_transformed_dfs.copy())\n",
    "    eia_transformed_dfs.update(eia923_transformed_dfs.copy())\n",
    "\n",
    "    # convert types..\n",
    "    eia_transformed_dfs = pudl.helpers.convert_dfs_dict_dtypes(eia_transformed_dfs, 'eia')\n",
    "\n",
    "    return eia_transformed_dfs"
   ]
  },
  {
   "cell_type": "markdown",
   "metadata": {},
   "source": [
    "## Dummy EIA 861 Harvesting\n",
    "* Used to separately test the EIA entity harvesting process with EIA 861\n",
    "* Doesn't yet work b/c 861 is structured differently than 860/923."
   ]
  },
  {
   "cell_type": "code",
   "execution_count": null,
   "metadata": {},
   "outputs": [],
   "source": [
    "def test_harvest_eia(eia_transformed_dfs, eia860_years, eia861_years, eia923_years):\n",
    "    entities_dfs, eia_transformed_dfs = pudl.transform.eia.transform(\n",
    "        eia_transformed_dfs,\n",
    "        eia860_years=eia860_years,\n",
    "        eia861_years=eia861_years,\n",
    "        eia923_years=eia923_years,\n",
    "    )\n",
    "\n",
    "    # convert types..\n",
    "    entities_dfs = pudl.helpers.convert_dfs_dict_dtypes(entities_dfs, 'eia')\n",
    "\n",
    "    # Compile transformed dfs for loading...\n",
    "    return entities_dfs, eia_transformed_dfs"
   ]
  },
  {
   "cell_type": "markdown",
   "metadata": {},
   "source": [
    "## Compare Annual Demand vs. Sales"
   ]
  },
  {
   "cell_type": "code",
   "execution_count": null,
   "metadata": {},
   "outputs": [],
   "source": [
    "def annual_demand_vs_sales(dhpa_ferc714, sales_eia861, ba_eia861):\n",
    "    \"\"\"\n",
    "    Categorize EIA Codes in FERC 714 as BA or Utility IDs.\n",
    "    \n",
    "    Most FERC 714 respondent IDs are associated with an `eia_code` which\n",
    "    refers to either a `balancing_authority_id_eia` or a `utility_id_eia`\n",
    "    but no indication is given as to which type of ID each one is. This\n",
    "    is further complicated by the fact that EIA uses the same numerical\n",
    "    ID to refer to the same entity in most but not all cases, when that\n",
    "    entity acts as both a utility and as a balancing authority.\n",
    "    \n",
    "    In order to identify which type of ID each `eia_code` is, this\n",
    "    funciton compares the annual demand reported in association with\n",
    "    each code in the FERC 714 hourly planning area time series, and in\n",
    "    the EIA 861 sales table -- using the ID both as a utility and as a\n",
    "    balancing authority ID. The correlation between the FERC 714 demand\n",
    "    and the EIA 861 sales should be much higher for one type of ID than\n",
    "    the other, indicating which type of ID is represented in the FERC\n",
    "    714 data.\n",
    "    \n",
    "    Args:\n",
    "        dhpa_ferc714 (pandas.DataFrame): The FERC 714 hourly demand\n",
    "            time series.\n",
    "        sales_eia861 (pandas.DataFrame): The EIA 861 Sales table.\n",
    "        ba_eia861 (pandas.DataFrame): The EIA 861 Balancing Authority\n",
    "            table, which contains the mapping between EIA Balancing\n",
    "            Authority Codes (3-4 letters) and EIA Balancing Authority\n",
    "            IDs (integers). The codes are present in the Sales table,\n",
    "            but the IDs are what the eia_code refers to.\n",
    "    \n",
    "    Returns:\n",
    "        pandas.DataFrame: A table containing FERC 714 respondent IDs,\n",
    "        EIA codes, and a column indicating whether that code was\n",
    "        found to be more consistent with Balancing Authority or\n",
    "        Utility electricity demand / sales.\n",
    "    \n",
    "    \"\"\"\n",
    "    # Sum up FERC 714 demand by report_year and eia_code:\n",
    "    dhpa_ferc714_by_eia_code = (\n",
    "        dhpa_ferc714\n",
    "        .groupby([\"eia_code\", \"report_year\"])[\"demand_mwh\"]\n",
    "        .sum()\n",
    "        .reset_index()\n",
    "    ) \n",
    "\n",
    "    # Sum up the EIA 861 sales by Utility ID:\n",
    "    sales_eia861_by_util = (\n",
    "        sales_eia861.groupby([\"utility_id_eia\", \"report_date\"])[\"sales_mwh\"]\n",
    "        .sum()\n",
    "        .reset_index()\n",
    "        .assign(report_year=lambda x: x.report_date.dt.year)\n",
    "        .drop(\"report_date\", axis=\"columns\")\n",
    "        .rename(columns={\"sales_mwh\": \"sales_utility_mwh\"})\n",
    "    )\n",
    "\n",
    "    # Need to translate the BA Code to BA ID for comparison w/ eia_code\n",
    "    ba_codes_and_ids = (\n",
    "        ba_eia861[[\"balancing_authority_code_eia\", \"balancing_authority_id_eia\", \"report_date\"]]\n",
    "        .drop_duplicates()\n",
    "        .assign(report_year=lambda x: x.report_date.dt.year)\n",
    "        .drop(\"report_date\", axis=\"columns\")\n",
    "        .dropna()\n",
    "    )\n",
    "\n",
    "    # Sum up the EIA 861 sales by Balancing Authority Code:\n",
    "    sales_eia861_by_ba = (\n",
    "        sales_eia861\n",
    "        .groupby([\"balancing_authority_code_eia\", \"report_date\"], observed=True)[\"sales_mwh\"]\n",
    "        .sum()\n",
    "        .reset_index()\n",
    "        .assign(report_year=lambda x: x.report_date.dt.year)\n",
    "        .drop(\"report_date\", axis=\"columns\")\n",
    "        .rename(columns={\"sales_mwh\": \"sales_ba_mwh\"})\n",
    "        .query(\"balancing_authority_code_eia!='UNK'\")\n",
    "        .merge(ba_codes_and_ids)\n",
    "    )\n",
    "    # Combine the demand and sales data with all the IDs\n",
    "    demand_and_sales = (\n",
    "        dhpa_ferc714_by_eia_code\n",
    "        .merge(\n",
    "            sales_eia861_by_util,\n",
    "            left_on=[\"eia_code\", \"report_year\"],\n",
    "            right_on=[\"utility_id_eia\", \"report_year\"],\n",
    "            how=\"left\"\n",
    "        )\n",
    "        .merge(\n",
    "            sales_eia861_by_ba,\n",
    "            left_on=[\"eia_code\", \"report_year\"],\n",
    "            right_on=[\"balancing_authority_id_eia\", \"report_year\"],\n",
    "            how=\"left\"\n",
    "        )\n",
    "        .astype({\n",
    "            \"eia_code\": pd.Int64Dtype(),\n",
    "            \"utility_id_eia\": pd.Int64Dtype(),\n",
    "            \"balancing_authority_id_eia\": pd.Int64Dtype(),\n",
    "        })\n",
    "        .assign(\n",
    "            ba_ratio=lambda x: x.sales_ba_mwh / x.demand_mwh,\n",
    "            utility_ratio=lambda x: x.sales_utility_mwh / x.demand_mwh,\n",
    "        )\n",
    "    )\n",
    "    return demand_and_sales"
   ]
  },
  {
   "cell_type": "markdown",
   "metadata": {},
   "source": [
    "## EIA Code Categorization"
   ]
  },
  {
   "cell_type": "code",
   "execution_count": null,
   "metadata": {},
   "outputs": [],
   "source": [
    "def categorize_eia_code(rids_ferc714, utils_eia860, ba_eia861):\n",
    "    \"\"\"\n",
    "    Categorize EIA Codes in FERC 714 as BA or Utility IDs.\n",
    "    \n",
    "    Most FERC 714 respondent IDs are associated with an `eia_code` which\n",
    "    refers to either a `balancing_authority_id_eia` or a `utility_id_eia`\n",
    "    but no indication is given as to which type of ID each one is. This\n",
    "    is further complicated by the fact that EIA uses the same numerical\n",
    "    ID to refer to the same entity in most but not all cases, when that\n",
    "    entity acts as both a utility and as a balancing authority.\n",
    "    \n",
    "    Given the nature of the FERC 714 hourly demand dataset, this function\n",
    "    assumes that if the `eia_code` appears in the EIA 861 Balancing\n",
    "    Authority table, that it should be labeled `balancing_authority`.\n",
    "    If the `eia_code` appears only in the EIA 860 Utility table, then\n",
    "    it is labeled `utility`. These labels are put in a new column named\n",
    "    `respondent_type`. If the planning area's `eia_code` does not appear in\n",
    "    either of those tables, then `respondent_type is set to NA.\n",
    "\n",
    "    Args:\n",
    "        rids_ferc714 (pandas.DataFrame): The FERC 714 `respondent_id` table.\n",
    "        utils_eia860 (pandas.DataFrame): The EIA 860 Utilities output table.\n",
    "        ba_eia861 (pandas.DataFrame): The EIA 861 Balancing Authority table.\n",
    "    \n",
    "    Returns:\n",
    "        pandas.DataFrame: A table containing all of the columns present in\n",
    "        the FERC 714 `respondent_id` table, plus  a new one named\n",
    "        `respondent_type` which can take on the values `balancing_authority`,\n",
    "        `utility`, or the special value pandas.NA.\n",
    "\n",
    "    \"\"\"\n",
    "    ba_ids = set(ba_eia861.balancing_authority_id_eia.dropna())\n",
    "    util_not_ba_ids = set(utils_eia860.utility_id_eia.dropna()).difference(ba_ids)\n",
    "    new_rids = rids_ferc714.copy()\n",
    "    new_rids[\"respondent_type\"] = pd.NA\n",
    "    new_rids.loc[new_rids.eia_code.isin(ba_ids), \"respondent_type\"] = \"balancing_authority\"\n",
    "    new_rids.loc[new_rids.eia_code.isin(util_not_ba_ids), \"respondent_type\"] = \"utility\"\n",
    "    ba_rids = new_rids[new_rids.respondent_type==\"balancing_authority\"]\n",
    "    util_rids = new_rids[new_rids.respondent_type==\"utility\"]\n",
    "    na_rids = new_rids[new_rids.respondent_type.isnull()]\n",
    "\n",
    "    ba_rids = (\n",
    "        ba_rids.merge(\n",
    "            ba_eia861\n",
    "            .filter(like=\"balancing_\")\n",
    "            .drop_duplicates(subset=[\"balancing_authority_id_eia\", \"balancing_authority_code_eia\"]),\n",
    "            how=\"left\", left_on=\"eia_code\", right_on=\"balancing_authority_id_eia\"\n",
    "        )\n",
    "    )\n",
    "    util_rids = (\n",
    "        util_rids.merge(\n",
    "            utils_eia860[[\"utility_id_eia\", \"utility_name_eia\"]]\n",
    "            .drop_duplicates(\"utility_id_eia\"),\n",
    "            how=\"left\", left_on=\"eia_code\", right_on=\"utility_id_eia\"\n",
    "        )\n",
    "    )\n",
    "    new_rids = (\n",
    "        pd.concat([ba_rids, util_rids, na_rids])\n",
    "        .astype({\n",
    "            \"respondent_type\": pd.StringDtype(),\n",
    "            \"balancing_authority_code_eia\": pd.StringDtype(),\n",
    "            \"balancing_authority_id_eia\": pd.Int64Dtype(),\n",
    "            \"balancing_authority_name_eia\": pd.StringDtype(),\n",
    "            \"utility_id_eia\": pd.Int64Dtype(),\n",
    "            \"utility_name_eia\": pd.StringDtype(),\n",
    "        })\n",
    "    )\n",
    "    \n",
    "    return new_rids"
   ]
  },
  {
   "cell_type": "markdown",
   "metadata": {},
   "source": [
    "## Georeference Balancing Authorities"
   ]
  },
  {
   "cell_type": "code",
   "execution_count": null,
   "metadata": {},
   "outputs": [],
   "source": [
    "def georef_bas(ba_eia861, st_eia861, sales_eia861, census_gdf):\n",
    "    \"\"\"\n",
    "    Create a GeoDataFrame mapping BAs to Utils to county geometries by year.\n",
    "    \n",
    "    This GDF includes the following columns:\n",
    "    \n",
    "    balancing_authority_id_eia (ba_eia861)\n",
    "    balancing_authority_name_eia (ba_eia861)\n",
    "    balancing_authority_code_eia (ba_eia861)\n",
    "    utility_id_eia (sales_eia861)\n",
    "    utility_name_eia (sales_eia861)\n",
    "    county_id_fips (st_eia861)\n",
    "    county (st_eia861)\n",
    "    state_id_fips (st_eia861)\n",
    "    state (st_eia861)\n",
    "    geometry (census_gdf)\n",
    "    county_name_census (census_gdf)\n",
    "    \n",
    "    It includes information both about which counties are associated with\n",
    "    utilities that are part of balancing authorities, and utilities that\n",
    "    are not part part of balancing authorities, so should be possible to\n",
    "    use it to generate geometries for all of the respondents in FERC 714,\n",
    "    both BAs and Utils.\n",
    "\n",
    "    \"\"\"\n",
    "    # Make sure that there aren't any more BA IDs we can recover from later years:\n",
    "    ba_ids_missing_codes = (\n",
    "        ba_eia861.loc[ba_eia861.balancing_authority_code_eia.isnull(), \"balancing_authority_id_eia\"]\n",
    "        .drop_duplicates()\n",
    "        .dropna()\n",
    "    )\n",
    "    assert len(ba_eia861[\n",
    "        (ba_eia861.balancing_authority_id_eia.isin(ba_ids_missing_codes)) &\n",
    "        (ba_eia861.balancing_authority_code_eia.notnull())\n",
    "    ]) == 0\n",
    "    \n",
    "    # Which utilities were part of what balancing areas in 2010-2012?\n",
    "    early_ba_by_util = (\n",
    "        ba_eia861\n",
    "        .query(\"report_date <= '2012-12-31'\")\n",
    "        .loc[:, [\n",
    "            \"report_date\",\n",
    "            \"balancing_authority_id_eia\",\n",
    "            \"balancing_authority_code_eia\",\n",
    "            \"utility_id_eia\",\n",
    "            \"balancing_authority_name_eia\",\n",
    "        ]]\n",
    "        .drop_duplicates(subset=[\"report_date\", \"balancing_authority_id_eia\", \"utility_id_eia\"])\n",
    "    )\n",
    "\n",
    "    # Create a dataframe that associates utilities and balancing authorities.\n",
    "    # This information is directly avaialble in the early_ba_by_util dataframe\n",
    "    # but has to be compiled for 2013 and later years based on the utility\n",
    "    # BA associations that show up in the Sales table\n",
    "    # Create an annual, normalized version of the BA table:\n",
    "    ba_normed = (\n",
    "        ba_eia861\n",
    "        .loc[:, [\n",
    "            \"report_date\",\n",
    "            \"state\",\n",
    "            \"balancing_authority_code_eia\",\n",
    "            \"balancing_authority_id_eia\",\n",
    "            \"balancing_authority_name_eia\",\n",
    "        ]]\n",
    "        .drop_duplicates(subset=[\n",
    "            \"report_date\",\n",
    "            \"state\",\n",
    "            \"balancing_authority_code_eia\",\n",
    "            \"balancing_authority_id_eia\",\n",
    "        ])\n",
    "    )\n",
    "    ba_by_util = (\n",
    "        pd.merge(\n",
    "            ba_normed,\n",
    "            sales_eia861\n",
    "            .loc[:, [\n",
    "                \"report_date\",\n",
    "                \"state\",\n",
    "                \"utility_id_eia\",\n",
    "                \"balancing_authority_code_eia\"\n",
    "            ]].drop_duplicates()\n",
    "        )\n",
    "        .loc[:, [\n",
    "            \"report_date\",\n",
    "            \"state\",\n",
    "            \"utility_id_eia\",\n",
    "            \"balancing_authority_id_eia\"\n",
    "        ]]\n",
    "        .append(early_ba_by_util[[\"report_date\", \"utility_id_eia\", \"balancing_authority_id_eia\"]])\n",
    "        .drop_duplicates()\n",
    "        .merge(ba_normed)\n",
    "        .dropna(subset=[\"report_date\", \"utility_id_eia\", \"balancing_authority_id_eia\"])\n",
    "        .sort_values([\"report_date\", \"balancing_authority_id_eia\", \"utility_id_eia\", \"state\"])\n",
    "    )\n",
    "    # Merge in county FIPS IDs for each county served by the utility from\n",
    "    # the service territory dataframe. We do an outer merge here so that we\n",
    "    # retain any utilities that are not part of a balancing authority. This\n",
    "    # lets us generate both BA and Util maps from the same GeoDataFrame\n",
    "    # We have to do this separately for the data up to 2012 (which doesn't\n",
    "    # include state) and the 2013 and onward data (which we need to have\n",
    "    # state for)\n",
    "    early_ba_util_county = (\n",
    "        ba_by_util.drop(\"state\", axis=\"columns\")\n",
    "        .merge(st_eia861, on=[\"report_date\", \"utility_id_eia\"], how=\"outer\")\n",
    "        .query(\"report_date <= '2012-12-31'\")\n",
    "    )\n",
    "    late_ba_util_county = (\n",
    "        ba_by_util\n",
    "        .merge(st_eia861, on=[\"report_date\", \"utility_id_eia\", \"state\"], how=\"outer\")\n",
    "        .query(\"report_date >= '2013-01-01'\")\n",
    "    )\n",
    "    ba_util_county = pd.concat([early_ba_util_county, late_ba_util_county])\n",
    "    # Bring in county geometry information based on FIPS ID from Census\n",
    "    ba_util_county_gdf = (\n",
    "        census_gdf[[\"GEOID10\", \"NAMELSAD10\", \"geometry\"]]\n",
    "        .to_crs(MAP_CRS)\n",
    "        .rename(\n",
    "            columns={\n",
    "                \"GEOID10\": \"county_id_fips\",\n",
    "                \"NAMELSAD10\": \"county_name_census\",\n",
    "                }\n",
    "        )\n",
    "        .merge(ba_util_county)\n",
    "    )\n",
    "    \n",
    "    return ba_util_county_gdf"
   ]
  },
  {
   "cell_type": "markdown",
   "metadata": {},
   "source": [
    "## Map Balancing Authorities"
   ]
  },
  {
   "cell_type": "code",
   "execution_count": null,
   "metadata": {},
   "outputs": [],
   "source": [
    "def map_ba(ba_ids, year, ba_util_county_gdf, save=False):\n",
    "    \"\"\"\n",
    "    Create a map of a balancing authority for a historical year.\n",
    "    \n",
    "    Args:\n",
    "        ba_ids (iterable): A collection of Balancing Authority IDs.\n",
    "        year (int): The year for which to create a map.\n",
    "        ba_util_county_gdf (geopandas.GeoDataFrame): A dataframe\n",
    "            associating report_date, balancing_authority_id_eia, and\n",
    "            county_id_fips.\n",
    "        save (bool): If True, save the figure to disk.\n",
    "    \n",
    "    Returns:\n",
    "        None\n",
    "    \n",
    "    \"\"\"\n",
    "    map_gdf = (\n",
    "        ba_util_county_gdf[\n",
    "            (ba_util_county_gdf.report_date.dt.year == year) &\n",
    "            (ba_util_county_gdf.balancing_authority_id_eia.isin(ba_ids)) &\n",
    "            (~ba_util_county_gdf.county_id_fips.str.match(\"^02\")) & # Avoid Alaska\n",
    "            (~ba_util_county_gdf.county_id_fips.str.match(\"^15\")) & # Avoid Hawaii\n",
    "            (~ba_util_county_gdf.county_id_fips.str.match(\"^72\")) # Avoid Puerto Rico\n",
    "        ]\n",
    "        .drop_duplicates(subset=[\"balancing_authority_id_eia\", \"county_id_fips\"])\n",
    "    )\n",
    "    ax = map_gdf.plot(figsize=(20, 20), color=\"black\", alpha=0.25, linewidth=0.25)\n",
    "    plt.title(f\"Balancing Areas ({year=})\")\n",
    "    ctx.add_basemap(ax)\n",
    "    if save is True:\n",
    "        plt.savefig(f\"BA_Overlap_{year}.jpg\")"
   ]
  },
  {
   "cell_type": "code",
   "execution_count": null,
   "metadata": {},
   "outputs": [],
   "source": [
    "def compare_hifld_eia_ba(ba_code, hifld_gdf, eia_gdf):\n",
    "    \"\"\"\n",
    "    Compare historical EIA BAs vs. HIFLD geometries.\n",
    "    \"\"\"\n",
    "    fig, (hifld_ax, eia_ax) = plt.subplots(nrows=1, ncols=2, sharex=True, sharey=True)\n",
    "    hifld_ax.set_title(f\"{ba_code} (HIFLD)\")\n",
    "    hifld_gdf[hifld_gdf.ABBRV==ba_code].to_crs(MAP_CRS).plot(ax=hifld_ax, linewidth=0)\n",
    "\n",
    "    eia_ax.set_title(f\"{ba_code} (EIA)\")\n",
    "    eia_gdf[\n",
    "        (eia_gdf.balancing_authority_code_eia==ba_code) &\n",
    "        (eia_gdf.report_date.dt.year == 2017)\n",
    "    ].plot(ax=eia_ax, linewidth=0.1)\n",
    "    plt.show()"
   ]
  },
  {
   "cell_type": "markdown",
   "metadata": {},
   "source": [
    "# Read Data"
   ]
  },
  {
   "cell_type": "markdown",
   "metadata": {},
   "source": [
    "## EIA 860 via PUDL Outputs"
   ]
  },
  {
   "cell_type": "code",
   "execution_count": null,
   "metadata": {},
   "outputs": [],
   "source": [
    "plants_eia860 = pudl_out.plants_eia860()\n",
    "utils_eia860 = pudl_out.utils_eia860()"
   ]
  },
  {
   "cell_type": "markdown",
   "metadata": {},
   "source": [
    "## EIA 861 (2010-2018)\n",
    "* Not yet fully integrated into PUDL\n",
    "* Post-transform harvesting process isn't compatible w/ EIA 861 structure\n",
    "* Only getting the `sales_eia861`, `balancing_authority_eia861`, and `service_territory_eia861` tables"
   ]
  },
  {
   "cell_type": "code",
   "execution_count": null,
   "metadata": {},
   "outputs": [],
   "source": [
    "%%time\n",
    "logger.setLevel(\"WARN\")\n",
    "eia_years = list(range(2010, 2019))\n",
    "eia_inputs = {\n",
    "    \"eia860_years\": [],\n",
    "    \"eia860_tables\": pudl.constants.pudl_tables[\"eia860\"],\n",
    "    \"eia861_years\": eia_years,\n",
    "    \"eia861_tables\": pudl.constants.pudl_tables[\"eia861\"],\n",
    "    \"eia923_years\": [],\n",
    "    \"eia923_tables\": pudl.constants.pudl_tables[\"eia923\"],\n",
    "}\n",
    "eia_transformed_dfs = test_etl_eia(eia_inputs=eia_inputs, pudl_settings=pudl_settings)\n",
    "logger.setLevel(\"INFO\")"
   ]
  },
  {
   "cell_type": "code",
   "execution_count": null,
   "metadata": {},
   "outputs": [],
   "source": [
    "ba_eia861 = eia_transformed_dfs[\"balancing_authority_eia861\"].copy()\n",
    "st_eia861 = eia_transformed_dfs[\"service_territory_eia861\"].copy()\n",
    "sales_eia861 = eia_transformed_dfs[\"sales_eia861\"].copy()"
   ]
  },
  {
   "cell_type": "code",
   "execution_count": null,
   "metadata": {},
   "outputs": [],
   "source": [
    "raw_eia861_dfs = pudl.extract.eia861.Extractor().extract(years=range(2010,2019), testing=True)"
   ]
  },
  {
   "cell_type": "markdown",
   "metadata": {},
   "source": [
    "## FERC 714 (2006-2018)"
   ]
  },
  {
   "cell_type": "code",
   "execution_count": null,
   "metadata": {},
   "outputs": [],
   "source": [
    "%%time\n",
    "logger.setLevel(\"WARN\")\n",
    "raw_ferc714 = pudl.extract.ferc714.extract(pudl_settings=pudl_settings)\n",
    "tfr_ferc714 = pudl.transform.ferc714.transform(raw_ferc714)\n",
    "logger.setLevel(\"INFO\")"
   ]
  },
  {
   "cell_type": "markdown",
   "metadata": {},
   "source": [
    "## HIFLD Electricity Planning Areas (2018)\n",
    "* Electricty Planning Area geometries from HIFLD.\n",
    "* Indexed by `ID` which corresponds to EIA utility or balancing area IDs.\n",
    "* Only valid for 2017-2018."
   ]
  },
  {
   "cell_type": "code",
   "execution_count": null,
   "metadata": {},
   "outputs": [],
   "source": [
    "hifld_pa_gdf = (\n",
    "    pudl.analysis.demand_mapping.get_hifld_planning_areas_gdf(pudl_settings)\n",
    "    .to_crs(MAP_CRS)\n",
    ")"
   ]
  },
  {
   "cell_type": "markdown",
   "metadata": {},
   "source": [
    "## US Census DP1 (2010)\n",
    "* This GeoDataFrame contains county-level geometries and demographic data."
   ]
  },
  {
   "cell_type": "code",
   "execution_count": null,
   "metadata": {},
   "outputs": [],
   "source": [
    "%%time\n",
    "census_gdf = (\n",
    "    pudl.analysis.demand_mapping.get_census2010_gdf(pudl_settings, layer=\"county\")\n",
    "    .to_crs(MAP_CRS)\n",
    ")"
   ]
  },
  {
   "cell_type": "markdown",
   "metadata": {},
   "source": [
    "# Combine Data"
   ]
  },
  {
   "cell_type": "markdown",
   "metadata": {},
   "source": [
    "## Categorize FERC 714 Respondent IDs"
   ]
  },
  {
   "cell_type": "code",
   "execution_count": null,
   "metadata": {},
   "outputs": [],
   "source": [
    "rids_ferc714 = (\n",
    "    tfr_ferc714[\"respondent_id_ferc714\"]\n",
    "    .pipe(categorize_eia_code, utils_eia860, ba_eia861)\n",
    ")"
   ]
  },
  {
   "cell_type": "markdown",
   "metadata": {},
   "source": [
    "## Add FERC 714 IDs to HIFLD"
   ]
  },
  {
   "cell_type": "code",
   "execution_count": null,
   "metadata": {},
   "outputs": [],
   "source": [
    "hifld_pa_gdf = (\n",
    "    hifld_pa_gdf\n",
    "    .merge(rids_ferc714, left_on=\"ID\", right_on=\"eia_code\", how=\"left\")\n",
    ")"
   ]
  },
  {
   "cell_type": "markdown",
   "metadata": {},
   "source": [
    "## Add Respondent info to FERC 714 Demand"
   ]
  },
  {
   "cell_type": "code",
   "execution_count": null,
   "metadata": {},
   "outputs": [],
   "source": [
    "dhpa_ferc714 = pd.merge(\n",
    "    tfr_ferc714[\"demand_hourly_pa_ferc714\"],\n",
    "    tfr_ferc714[\"respondent_id_ferc714\"],\n",
    "    on=\"respondent_id_ferc714\",\n",
    "    how=\"left\",  # There are respondents with no demand\n",
    ")"
   ]
  },
  {
   "cell_type": "markdown",
   "metadata": {},
   "source": [
    "# Utilities vs. Balancing Authorities\n",
    "Exploration of the Balancing Authority EIA 861 table for cleanup\n",
    "\n",
    "### Which columns are available in which years?\n",
    "\n",
    "| Year | BA ID | BA Name | BA Code | Util ID | Util Name | State | N  |\n",
    "|------|-------|---------|---------|---------|-----------|-------|----|\n",
    "| 2010 | XXXXX | XXXXXXX |         | XXXXXXX |           |       |3193|\n",
    "| 2011 | XXXXX | XXXXXXX |         | XXXXXXX |           |       |3126|\n",
    "| 2012 | XXXXX | XXXXXXX |         | XXXXXXX | XXXXXXXXX |       |3146|\n",
    "| 2013 | XXXXX | XXXXXXX | XXXXXXX |         |           | XXXXX | 239|\n",
    "| 2014 | XXXXX | XXXXXXX | XXXXXXX |         |           | XXXXX | 208|\n",
    "| 2015 | XXXXX | XXXXXXX | XXXXXXX |         |           | XXXXX | 203|\n",
    "| 2016 | XXXXX | XXXXXXX | XXXXXXX |         |           | XXXXX | 203|\n",
    "| 2017 | XXXXX | XXXXXXX | XXXXXXX |         |           | XXXXX | 203|\n",
    "| 2018 | XXXXX | XXXXXXX | XXXXXXX |         |           | XXXXX | 204|\n",
    "\n",
    "### What does this table mean?\n",
    "* In 2010-2012, the table says which utilities (by ID) are included in which balancing authorities.\n",
    "* In 2013-2018, the table indicates which *states* a BA is operating in, and also provides a BA Code\n",
    "\n",
    "### Questions:\n",
    "* Where does the `balancing_authority_code` show up elsewhere in the EIA 860/861 data?\n",
    "  * `plants_eia860` (nowhere else that I know of)\n",
    "* Are the BA to Utility mappings likely to remain valid throughout the entire time period? Can we propagate them forward?\n",
    "  * No, there's some variation year to year in which utilities are associated with which BAs\n",
    "* Are the BA Code/Name to BA ID mappings permanent?\n",
    "  * No they aren't -- when a BA changes owners and names, the code changes, but ID stays the same."
   ]
  },
  {
   "cell_type": "markdown",
   "metadata": {},
   "source": [
    "## Untangling HIFLD, FERC 714, & EIA IDs\n",
    "* There are unspecified \"EIA codes\" associated with FERC 714 respondents.\n",
    "* These IDs correspond to a mix of `utility_id_eia` and `balancing_authority_id_eia` values.\n",
    "* Similarly, the ID field of the HIFLD geometries are a mix of BA and Utility IDs from EIA.\n",
    "* This is extra confusing, because EIA *usually* uses the *same* ID for BAs and Utils.\n",
    "* However, the EIA BA and Util IDs appear to be distinct namespaces\n",
    "  * Not all IDs which appear in both tables identify the same entity in both tables.\n",
    "  * In a few cases different IDs are used to identify the same entity when it shows up in both tables.\n",
    "* It could be that whoever entered the IDs in the FERC 714 / HIFLD datasets didn't realize these were different sets of IDs."
   ]
  },
  {
   "cell_type": "markdown",
   "metadata": {},
   "source": [
    "### BA / Utility ID Overlap\n",
    "* Example of an ID that shows up in both, but refers to different entities, see `59504`\n",
    "  * `balancing_area_id_eia == 59504` is the Southwest Power Pool (SWPP).\n",
    "  * `utility_id_eia == 59504` is Kirkwood Community College, in MO.\n",
    "* Example of an entity that exists in both datsets, but shows up with different IDs, see PacifiCorp.\n",
    "  * Has two BA IDs (East and West): `[14379, 14378]`\n",
    "  * Has one Utility ID: `14354`\n",
    "* Example of an entity that shows up with the same ID in both tables:\n",
    "  * ID `15466` is Public Service Co of Colorado -- both a BA (PSCO) and a Utility."
   ]
  },
  {
   "cell_type": "code",
   "execution_count": null,
   "metadata": {},
   "outputs": [],
   "source": [
    "# BA ID comes from EIA 861 BA Table\n",
    "ba_ids = set(ba_eia861.balancing_authority_id_eia)\n",
    "print(f\"Total # of BA IDs: {len(ba_ids)}\")\n",
    "\n",
    "# Util ID comes from EIA 860 Utilities Entity table.\n",
    "util_ids = set(pudl_out.utils_eia860().utility_id_eia)\n",
    "print(f\"Total # of Util IDs: {len(util_ids)}\")\n",
    "\n",
    "ba_not_util_ids = ba_ids.difference(util_ids)\n",
    "print(f\"BA IDs that are not Util IDs: {len(ba_not_util_ids)}\")\n",
    "\n",
    "util_not_ba_ids = util_ids.difference(ba_ids)\n",
    "print(f\"Util IDs that are not BA IDs: {len(util_not_ba_ids)}\")\n",
    "\n",
    "ba_and_util_ids = ba_ids.intersection(util_ids)\n",
    "print(f\"BA IDs that are also Util IDs: {len(ba_and_util_ids)}\")"
   ]
  },
  {
   "cell_type": "code",
   "execution_count": null,
   "metadata": {},
   "outputs": [],
   "source": [
    "ba_and_util = (\n",
    "    ba_eia861\n",
    "    .loc[:, [\"balancing_authority_id_eia\", \"balancing_authority_name_eia\"]]\n",
    "    .dropna(subset=[\"balancing_authority_id_eia\"])\n",
    "    .merge(\n",
    "        pudl_out.utils_eia860(),\n",
    "        left_on=\"balancing_authority_id_eia\",\n",
    "        right_on=\"utility_id_eia\",\n",
    "        how=\"inner\"\n",
    "    )\n",
    "    .loc[:, [\n",
    "        \"utility_id_eia\",\n",
    "        \"balancing_authority_name_eia\",\n",
    "        \"utility_name_eia\",\n",
    "    ]]\n",
    "    .rename(columns={\"utility_id_eia\": \"util_ba_id\"})\n",
    "    .drop_duplicates()\n",
    "    .reset_index(drop=True)\n",
    ")\n",
    "\n",
    "ba_not_util = (\n",
    "    ba_eia861.loc[ba_eia861.balancing_authority_id_eia.isin(ba_not_util_ids)]\n",
    "    .loc[:,[\"balancing_authority_id_eia\", \"balancing_authority_code_eia\", \"balancing_authority_name_eia\"]]\n",
    "    .drop_duplicates(subset=[\"balancing_authority_id_eia\", \"balancing_authority_code_eia\"])\n",
    "    .sort_values(\"balancing_authority_id_eia\")\n",
    ")"
   ]
  },
  {
   "cell_type": "markdown",
   "metadata": {},
   "source": [
    "### Missing IDs\n",
    "* There are `eia_code` values that don't show up in the list of balancing authority IDs (2010-2018).\n",
    "* There are also `eia_code` values that don't show up in the list of utility IDs (2009-2018).\n",
    "* There are a few `eia_code` values that don't show up in either!\n",
    "* Mostly this is an artifact of the different time covered by FERC 714 (2006-2018).\n",
    "* If we look only at the respondents that reported non-zero demand for 2010-2018, we find that all of the `eia_code` values *do* appear in either the `blancing_authority_eia861` or `utilities_eia860` tables."
   ]
  },
  {
   "cell_type": "code",
   "execution_count": null,
   "metadata": {},
   "outputs": [],
   "source": [
    "rids_ferc714[\n",
    "    (~rids_ferc714.eia_code.isin(ba_eia861.balancing_authority_id_eia.unique())) &\n",
    "    (~rids_ferc714.eia_code.isin(utils_eia860.utility_id_eia.unique()))\n",
    "]"
   ]
  },
  {
   "cell_type": "code",
   "execution_count": null,
   "metadata": {},
   "outputs": [],
   "source": [
    "rids_recent = (\n",
    "    dhpa_ferc714\n",
    "    .groupby([\"respondent_id_ferc714\", \"report_year\"])\n",
    "    .agg({\"demand_mwh\": sum})\n",
    "    .reset_index()\n",
    "    .query(\"report_year >= 2010\")\n",
    "    .query(\"demand_mwh >= 0.0\")\n",
    "    .merge(rids_ferc714[[\"eia_code\", \"respondent_id_ferc714\", \"respondent_name_ferc714\"]], how=\"left\")\n",
    "    .drop([\"report_year\", \"demand_mwh\"], axis=\"columns\")\n",
    "    .drop_duplicates()\n",
    ")\n",
    "assert len(rids_recent[\n",
    "    (~rids_recent.eia_code.isin(ba_eia861.balancing_authority_id_eia.unique())) &\n",
    "    (~rids_recent.eia_code.isin(utils_eia860.utility_id_eia.unique()))\n",
    "]) == 0"
   ]
  },
  {
   "cell_type": "markdown",
   "metadata": {},
   "source": [
    "### BA to Utility Mappings are Many to Many\n",
    "* Unsurprisingly, BAs often contain many utilities.\n",
    "* However, it's also common for utilities to participate in more than one BA.\n",
    "* About 1/3 of all utilities show up in association with more than one BA"
   ]
  },
  {
   "cell_type": "code",
   "execution_count": null,
   "metadata": {},
   "outputs": [],
   "source": [
    "ba_to_util_mapping = (\n",
    "    ba_eia861[[\"balancing_authority_id_eia\", \"utility_id_eia\"]]\n",
    "    .dropna(subset=[\"balancing_authority_id_eia\", \"utility_id_eia\"])\n",
    "    .drop_duplicates(subset=[\"balancing_authority_id_eia\", \"utility_id_eia\"])\n",
    "    .groupby([\"balancing_authority_id_eia\"])\n",
    "    .agg({\n",
    "        \"utility_id_eia\": \"count\"\n",
    "    })\n",
    ")\n",
    "plt.hist(ba_to_util_mapping.utility_id_eia, bins=99, range=(1,100))\n",
    "plt.xlabel(\"# of Utils / BA\")\n",
    "plt.ylabel(\"# of BAs\")\n",
    "plt.title(\"Number of Utilities per Balancing Area\");"
   ]
  },
  {
   "cell_type": "code",
   "execution_count": null,
   "metadata": {},
   "outputs": [],
   "source": [
    "util_to_ba_mapping = (\n",
    "    ba_eia861[[\"balancing_authority_id_eia\", \"utility_id_eia\"]]\n",
    "    .dropna(subset=[\"balancing_authority_id_eia\", \"utility_id_eia\"])\n",
    "    .drop_duplicates(subset=[\"balancing_authority_id_eia\", \"utility_id_eia\"])\n",
    "    .groupby([\"utility_id_eia\"])\n",
    "    .agg({\n",
    "        \"balancing_authority_id_eia\": \"count\"\n",
    "    })\n",
    ")\n",
    "plt.hist(util_to_ba_mapping.balancing_authority_id_eia, bins=4, range=(1,5))\n",
    "plt.title(\"Number of Balancing Authorities per Utility\");"
   ]
  },
  {
   "cell_type": "markdown",
   "metadata": {},
   "source": [
    "## Georeferenced Demand Fraction\n",
    "* With their original EIA codes the HIFLD Electricity Planning Areas only georeference some of the FERC 714 demand.\n",
    "* It's about 86% in 2018. In 2013 and earlier years, the fraction starts to drop off more quickly, to 76% in 2010, and 58% in 2006.\n",
    "* After manually identifying and fixing some bad and missing EIA codes in the FERC 714, the mapped fraction is much higher.\n",
    "* 98% or more in 2014-2018, dropping to 87% in 2010, and 68% in 2006\n",
    "* **However** because the geometries have also evolved over time, just the fact that the demand time series is linked to **some** HIFLD geometry, doesn't mean that it's the **right** geometry."
   ]
  },
  {
   "cell_type": "code",
   "execution_count": null,
   "metadata": {},
   "outputs": [],
   "source": [
    "annual_demand_ferc714 = (\n",
    "    dhpa_ferc714\n",
    "    .groupby([\"report_year\"]).demand_mwh.sum()\n",
    "    .reset_index()\n",
    ")\n",
    "annual_demand_mapped = (\n",
    "    dhpa_ferc714[dhpa_ferc714.eia_code.isin(hifld_pa_gdf.eia_code)]\n",
    "    .groupby([\"report_year\"]).demand_mwh.sum()\n",
    "    .reset_index()\n",
    "    .merge(annual_demand_ferc714, on=\"report_year\", suffixes=(\"_map\", \"_tot\"))\n",
    "    .assign(\n",
    "        fraction_mapped=lambda x: x.demand_mwh_map / x.demand_mwh_tot\n",
    "    )\n",
    ")"
   ]
  },
  {
   "cell_type": "code",
   "execution_count": null,
   "metadata": {},
   "outputs": [],
   "source": [
    "plt.plot(\"report_year\", \"fraction_mapped\", data=annual_demand_mapped, lw=5)\n",
    "plt.ylabel(\"Fraction of demand which is mapped\")\n",
    "plt.title(\"Completeness of HIFLD demand mapping by year\")\n",
    "plt.ylim(0.6, 1.05);"
   ]
  },
  {
   "cell_type": "markdown",
   "metadata": {},
   "source": [
    "# Historical Planning Area Geometries\n",
    "Compile a GeoDataFrame that relates balancing authorities, their constituent utilities, and the collections of counties which are served by those utilities, across all the years for which we have EIA 861 data (2010-2018)"
   ]
  },
  {
   "cell_type": "code",
   "execution_count": null,
   "metadata": {},
   "outputs": [],
   "source": [
    "ba_util_county_gdf = georef_bas(ba_eia861, st_eia861, sales_eia861, census_gdf)"
   ]
  },
  {
   "cell_type": "code",
   "execution_count": null,
   "metadata": {},
   "outputs": [],
   "source": [
    "ba_util_county_gdf.info()"
   ]
  },
  {
   "cell_type": "code",
   "execution_count": null,
   "metadata": {},
   "outputs": [],
   "source": [
    "for year in (2010, 2014, 2018):\n",
    "    map_ba(ba_util_county_gdf.balancing_authority_id_eia.unique(), year, ba_util_county_gdf, save=True)"
   ]
  },
  {
   "cell_type": "markdown",
   "metadata": {},
   "source": [
    "## Output Simplified Annual BA Geometries\n",
    "* This takes half an hour so it's commented out.\n",
    "* Resulting shapefile is ~250MB compressed. Seems too big.\n",
    "* Need to figure out how to add explicity projection.\n",
    "* Need to figure out how to make each year's BA geometries its own layer."
   ]
  },
  {
   "cell_type": "code",
   "execution_count": null,
   "metadata": {},
   "outputs": [],
   "source": [
    "#%%time\n",
    "#ba_fips_simplified = (\n",
    "#    ba_util_county_gdf\n",
    "#    .assign(report_year=lambda x: x.report_date.dt.year)\n",
    "#    .drop([\n",
    "#        \"report_date\",\n",
    "#        \"state\",\n",
    "#        \"state_id_fips\",\n",
    "#        \"county\",\n",
    "#        \"county_name_census\",\n",
    "#        \"utility_id_eia\",\n",
    "#        \"utility_name_eia\"\n",
    "#    ], axis=\"columns\")\n",
    "#    .drop_duplicates(subset=[\"report_year\", \"balancing_authority_id_eia\", \"county_id_fips\"])\n",
    "#    .dropna(subset=[\"report_year\", \"balancing_authority_id_eia\", \"county_id_fips\"])\n",
    "#    .loc[:,[\"report_year\", \"balancing_authority_id_eia\", \"balancing_authority_code_eia\", \"balancing_authority_name_eia\", \"county_id_fips\", \"geometry\"]]\n",
    "#)\n",
    "#ba_annual_gdf = (\n",
    "#    ba_fips_simplified\n",
    "#    .dissolve(by=[\"report_year\", \"balancing_authority_id_eia\"])\n",
    "#    .reset_index()\n",
    "#    .drop(\"county_id_fips\", axis=\"columns\")\n",
    "#)\n",
    "#ba_output_gdf = (\n",
    "#    ba_annual_gdf\n",
    "#    .astype({\n",
    "#        \"report_year\": int,\n",
    "#        \"balancing_authority_id_eia\": float,\n",
    "#        \"balancing_authority_code_eia\": str,\n",
    "#        \"balancing_authority_name_eia\": str,\n",
    "#    })\n",
    "#    .rename(columns={\n",
    "#        \"report_year\": \"year\",\n",
    "#        \"balancing_authority_id_eia\": \"ba_id\",\n",
    "#        \"balancing_authority_code_eia\": \"ba_code\",\n",
    "#        \"balancing_authority_name_eia\": \"ba_name\",\n",
    "#    })\n",
    "#)\n",
    "#ba_output_gdf.to_file(\"ba_annual.shp\")"
   ]
  },
  {
   "cell_type": "markdown",
   "metadata": {},
   "source": [
    "## Compare HIFLD and EIA BA maps for 2018"
   ]
  },
  {
   "cell_type": "code",
   "execution_count": null,
   "metadata": {},
   "outputs": [],
   "source": [
    "for ba_code in hifld_pa_gdf.ABBRV.unique():\n",
    "    if ba_code in ba_util_county_gdf.balancing_authority_code_eia.unique():\n",
    "        compare_hifld_eia_ba(ba_code, hifld_pa_gdf, ba_util_county_gdf)"
   ]
  },
  {
   "cell_type": "markdown",
   "metadata": {},
   "source": [
    "## Time Evolution of BA Geometries\n",
    "For each BA we now have a collection of annual geometries. How have they changed over time?"
   ]
  },
  {
   "cell_type": "code",
   "execution_count": null,
   "metadata": {},
   "outputs": [],
   "source": [
    "for ba_code in ba_util_county_gdf.balancing_authority_code_eia.unique():\n",
    "    fig, axes = plt.subplots(nrows=3, ncols=3, figsize=(20,20), sharex=True, sharey=True, facecolor=\"white\")\n",
    "    for year, ax in zip(range(2010, 2019), axes.flat):\n",
    "        ax.set_title(f\"{ba_code} ({year})\")\n",
    "        ax.set_xticks([])\n",
    "        ax.set_yticks([])\n",
    "        plot_gdf = (\n",
    "            ba_util_county_gdf\n",
    "            .assign(report_year=lambda x: x.report_date.dt.year)\n",
    "            .query(f\"balancing_authority_code_eia=='{ba_code}'\")\n",
    "            .query(f\"report_year=='{year}'\")\n",
    "            .drop_duplicates(subset=\"county_id_fips\")\n",
    "        )\n",
    "        plot_gdf.plot(ax=ax, linewidth=0.1)\n",
    "    plt.show()"
   ]
  },
  {
   "cell_type": "markdown",
   "metadata": {},
   "source": [
    "## Merge Geometries with FERC 714\n",
    "Now that we have a draft of wht the BA and Utility level territories look like, we can merge those with the FERC 714 Respondent ID table, and see how many leftovers there are, and whether the BA and Utility geometires play well together.\n",
    "\n",
    "Before dissolving the boundaries between counties the output dataframe needs to have:\n",
    "* `report_date`\n",
    "* `respondent_id_ferc714`\n",
    "* `eia_code`\n",
    "* `respondent_type`\n",
    "* `balancing_authority_id_eia`\n",
    "* `utility_id_eia`\n",
    "* `county_id_fips`\n",
    "* `geometry`\n",
    "\n",
    "* `balancing_authority_code_eia`\n",
    "* `balancing_authority_name_eia`\n",
    "* `respondent_name_ferc714`\n",
    "* `utility_name_eia`\n",
    "* `county_name_census`\n",
    "* `state`\n",
    "* `state_id_fips`"
   ]
  },
  {
   "cell_type": "code",
   "execution_count": null,
   "metadata": {},
   "outputs": [],
   "source": [
    "utils_ferc714 = (\n",
    "    rids_ferc714.loc[\n",
    "        rids_ferc714.respondent_type == \"utility\",\n",
    "        [\"respondent_id_ferc714\", \"respondent_name_ferc714\", \"utility_id_eia\", \"respondent_type\"]\n",
    "    ]\n",
    ")\n",
    "\n",
    "bas_ferc714 = (\n",
    "    rids_ferc714.loc[\n",
    "        rids_ferc714.respondent_type == \"balancing_authority\",\n",
    "        [\"respondent_id_ferc714\", \"respondent_name_ferc714\", \"balancing_authority_id_eia\", \"respondent_type\"]\n",
    "    ]\n",
    ")\n",
    "\n",
    "null_ferc714 = (\n",
    "    rids_ferc714.loc[\n",
    "        rids_ferc714.respondent_type.isnull(),\n",
    "        [\"respondent_id_ferc714\", \"respondent_name_ferc714\", \"respondent_type\"]\n",
    "    ]\n",
    ")\n",
    "\n",
    "bas_ferc714_gdf = (\n",
    "    ba_util_county_gdf\n",
    "    .drop([\"county\"], axis=\"columns\")\n",
    "    .merge(bas_ferc714, how=\"right\")\n",
    ")\n",
    "\n",
    "utils_ferc714_gdf = (\n",
    "    ba_util_county_gdf\n",
    "    .drop([\"balancing_authority_id_eia\", \"balancing_authority_code_eia\", \"balancing_authority_name_eia\", \"county\"], axis=\"columns\")\n",
    "    .drop_duplicates()\n",
    "    .merge(utils_ferc714, how=\"right\")\n",
    ")\n",
    "rids_ferc714_gdf = (\n",
    "    pd.concat([bas_ferc714_gdf, utils_ferc714_gdf, null_ferc714])\n",
    "    .astype({\n",
    "        \"county_id_fips\": pd.StringDtype(),\n",
    "        \"county_name_census\": pd.StringDtype(),\n",
    "        \"respondent_type\": pd.StringDtype(),\n",
    "        \"utility_id_eia\": pd.Int64Dtype(),\n",
    "        \"balancing_authority_id_eia\": pd.Int64Dtype(),\n",
    "        \"balancing_authority_code_eia\": pd.StringDtype(),\n",
    "        \"balancing_authority_name_eia\": pd.StringDtype(),\n",
    "        \"state\": pd.StringDtype(),\n",
    "        \"utility_name_eia\": pd.StringDtype(),\n",
    "    })\n",
    ")"
   ]
  },
  {
   "cell_type": "code",
   "execution_count": null,
   "metadata": {},
   "outputs": [],
   "source": [
    "display(rids_ferc714_gdf.info())\n",
    "rids_ferc714_gdf.sample(10)"
   ]
  },
  {
   "cell_type": "markdown",
   "metadata": {},
   "source": [
    "## Check Geometries for Completeness\n",
    "* How many balancing authorities do we have geometries for?\n",
    "* How many utilities do we have geometries for?\n",
    "* Do those geometries cover all of the entities that report in FERC 714?\n",
    "* Do we have a geometry for every entity in every year in which it reports demand?"
   ]
  },
  {
   "cell_type": "markdown",
   "metadata": {},
   "source": [
    "### Count BA & Util Geometries"
   ]
  },
  {
   "cell_type": "code",
   "execution_count": null,
   "metadata": {},
   "outputs": [],
   "source": [
    "n_bas = len(rids_ferc714_gdf.balancing_authority_id_eia.unique())\n",
    "logger.info(f\"Found territories for {n_bas} unique Balancing Areas\")\n",
    "n_utils = len(rids_ferc714_gdf.loc[\n",
    "    (rids_ferc714_gdf.balancing_authority_id_eia.isnull()) &\n",
    "    (~rids_ferc714_gdf.utility_id_eia.isnull())\n",
    "].utility_id_eia.unique())\n",
    "logger.info(f\"Found territories for {n_utils} Utilities outside of the BAs\")"
   ]
  },
  {
   "cell_type": "markdown",
   "metadata": {},
   "source": [
    "### Identify Missing Geometries\n",
    "* Within each year of historical data from 2010-2018, are there any entities (either BA or Utility) which **do** have hourly demand reported in the FERC 714, for whivh we do not have a historical geometry?\n",
    "* How many of them are there?\n",
    "* Why are they missing?\n",
    "* Do we have the geometires in adjacent years and can we re-use them?\n",
    "* Is it possible that the FERC 714 IDs correspond to a precursor entity, or one that was discontinued?  E.g. if SWPP is missing in 2010, is that because the BA was reported in EIA as SPS in that year?\n",
    "* How important are the missing geometries? Do the associated entities have a lot of demand associated with them in FERC 714?\n",
    "* Can we use `ffill` or `backfill` on the `geometry` column in a GeoDataFrame?"
   ]
  },
  {
   "cell_type": "code",
   "execution_count": null,
   "metadata": {},
   "outputs": [],
   "source": [
    "problem_ids = pd.DataFrame()\n",
    "for year in range(2010, 2019):\n",
    "    this_year_gdf = (\n",
    "        rids_ferc714_gdf\n",
    "        .loc[(rids_ferc714_gdf.report_date.dt.year==year) & (~rids_ferc714_gdf.geometry.isnull())]\n",
    "    )\n",
    "    # All BA IDs which show up in FERC 714:\n",
    "    ba_ids_ferc714 = (\n",
    "        rids_ferc714\n",
    "        .loc[rids_ferc714.respondent_type==\"balancing_authority\",\n",
    "             \"balancing_authority_id_eia\"]\n",
    "        .unique()\n",
    "    )\n",
    "    # BA IDs which have a geometry in this year\n",
    "    ba_geom_ids = (\n",
    "        this_year_gdf\n",
    "        .balancing_authority_id_eia\n",
    "        .dropna().unique()\n",
    "    )\n",
    "    # BA IDs which have reported demand in this year\n",
    "    ba_demand_ids = (\n",
    "        dhpa_ferc714\n",
    "        .query(\"report_year==@year\")\n",
    "        .query(\"demand_mwh>0.0\")\n",
    "        .loc[dhpa_ferc714.eia_code.isin(ba_ids_ferc714)]\n",
    "        .eia_code.unique()\n",
    "    )\n",
    "\n",
    "    # Need to make the demand IDs clearly either utility of BA IDs. Whoops!\n",
    "    missing_ba_geom_ids = [x for x in ba_demand_ids if x not in ba_geom_ids]\n",
    "    logger.info(f\"{len(missing_ba_geom_ids)} BA respondents w/o geometries in {year}\")\n",
    "    problem_ids = problem_ids.append(\n",
    "        rids_ferc714\n",
    "        .loc[rids_ferc714.balancing_authority_id_eia.isin(missing_ba_geom_ids)]\n",
    "        .assign(year=year)\n",
    "    )\n",
    "    \n",
    "    # All EIA Utility IDs which show up in FERC 714:\n",
    "    util_ids_ferc714 = (\n",
    "        rids_ferc714\n",
    "        .loc[rids_ferc714.respondent_type==\"utility\",\n",
    "             \"utility_id_eia\"]\n",
    "        .unique()\n",
    "    )\n",
    "    # EIA Utility IDs which have geometry information for this year\n",
    "    util_geom_ids = (\n",
    "        this_year_gdf\n",
    "        .utility_id_eia\n",
    "        .dropna().unique()\n",
    "    )\n",
    "    util_demand_ids = (\n",
    "        dhpa_ferc714\n",
    "        .query(\"report_year==@year\")\n",
    "        .query(\"demand_mwh>0.0\")\n",
    "        .loc[dhpa_ferc714.eia_code.isin(util_ids_ferc714)]\n",
    "        .eia_code.unique()\n",
    "    )\n",
    "    \n",
    "    missing_util_geom_ids = [x for x in util_demand_ids if x not in util_geom_ids]\n",
    "    logger.info(f\"{len(missing_util_geom_ids)} Utility respondents w/o geometries in {year}\")\n",
    "    problem_ids = problem_ids.append(\n",
    "        rids_ferc714\n",
    "        .loc[rids_ferc714.utility_id_eia.isin(missing_util_geom_ids)]\n",
    "        .assign(year=year)\n",
    "    )"
   ]
  },
  {
   "cell_type": "code",
   "execution_count": null,
   "metadata": {},
   "outputs": [],
   "source": [
    "problem_ids.query(\"year==2010\").query(\"respondent_type=='balancing_authority'\")"
   ]
  },
  {
   "cell_type": "markdown",
   "metadata": {},
   "source": [
    "## Dissolve to BA or Util\n",
    "* At this point we still have geometires at the county level.\n",
    "* This is 150,000+ records.\n",
    "* Really we just want a single geometry per respondent per year.\n",
    "* Dissolve based on year and respondent_id_ferc714.\n",
    "* Merge the annual per-respondent geometry with the rids_ferc714 which has more information\n",
    "* Note that this takes about half an hour to run..."
   ]
  },
  {
   "cell_type": "code",
   "execution_count": null,
   "metadata": {},
   "outputs": [],
   "source": [
    "%%time\n",
    "dissolved_rids_ferc714_gdf = (\n",
    "    rids_ferc714_gdf.drop_duplicates(subset=[\"report_date\", \"county_id_fips\", \"respondent_id_ferc714\"])\n",
    "    .dissolve(by=[\"report_date\", \"respondent_id_ferc714\"])\n",
    "    .reset_index()\n",
    "    .loc[:, [\"report_date\", \"respondent_id_ferc714\", \"geometry\"]]\n",
    "    .merge(rids_ferc714, on=\"respondent_id_ferc714\", how=\"outer\")\n",
    ")\n",
    "#dissolved_rids_ferc714_gdf.to_file(\"planning_areas_ferc714.gpkg\", driver=\"GPKG\")"
   ]
  },
  {
   "cell_type": "markdown",
   "metadata": {},
   "source": [
    "### Select based on respondent type"
   ]
  },
  {
   "cell_type": "code",
   "execution_count": null,
   "metadata": {},
   "outputs": [],
   "source": [
    "dissolved_utils = dissolved_rids_ferc714_gdf.query(\"respondent_type=='utility'\")\n",
    "dissolved_bas = dissolved_rids_ferc714_gdf.query(\"respondent_type=='balancing_authority'\")"
   ]
  },
  {
   "cell_type": "markdown",
   "metadata": {},
   "source": [
    "### Nationwide BA / Util Maps\n",
    "* Still want to add the US state boundaries / coastlines to this for context."
   ]
  },
  {
   "cell_type": "code",
   "execution_count": null,
   "metadata": {},
   "outputs": [],
   "source": [
    "unwanted_ba_ids = (\n",
    "    112, # Alaska\n",
    "    133, # Alaska\n",
    "    178, # Hawaii\n",
    "    301, # PJM Dupe\n",
    "    302, # PJM Dupe\n",
    "    303, # PJM Dupe\n",
    "    304, # PJM Dupe\n",
    "    305, # PJM Dupe\n",
    "    306, # PJM Dupe\n",
    ")\n",
    "\n",
    "for report_date in pd.date_range(start=\"2010-01-01\", end=\"2018-01-01\", freq=\"AS\"):\n",
    "    ba_ax = (\n",
    "        dissolved_bas\n",
    "        .query(\"report_date==@report_date\")\n",
    "        .query(\"respondent_id_ferc714 not in @unwanted_ba_ids\")\n",
    "        .plot(figsize=(20, 20), color=\"blue\", alpha=0.25, linewidth=1)\n",
    "    )\n",
    "    plt.title(f\"FERC 714 Balancing Authority Respondents {report_date}\")\n",
    "    ctx.add_basemap(ba_ax)\n",
    "\n",
    "    util_ax = (\n",
    "        dissolved_utils\n",
    "        .query(\"report_date==@report_date\")\n",
    "        .plot(figsize=(20, 20), color=\"red\", alpha=0.25, linewidth=1)\n",
    "    )\n",
    "    plt.title(f\"FERC 714 Utility Respondents {report_date}\")\n",
    "    ctx.add_basemap(util_ax)\n",
    "    \n",
    "    plt.show();"
   ]
  },
  {
   "cell_type": "markdown",
   "metadata": {},
   "source": [
    "### Per-respondent annual maps\n",
    "* For each respondent make a grid of 9 (2010-2018)\n",
    "* Show state lines in bg for context\n",
    "* Limit bounding box by the respondent's territory"
   ]
  },
  {
   "cell_type": "markdown",
   "metadata": {},
   "source": [
    "# Remaining Tasks"
   ]
  },
  {
   "cell_type": "markdown",
   "metadata": {},
   "source": [
    "## Geometry Cleanup:\n",
    "* Why do some respondents lack geometries in some years?\n",
    "* Why do some respondents lack geometries in **all** years? (e.g. Tri-State G&T)\n",
    "* Why do some counties have no BA or Utility coverage in some or all years?\n",
    "* What combinations of years and respondents are missing?\n",
    "* Compare what we've ended up doing to the Aufhammer paper again.\n",
    "* Is there any need to use name-based matching between the Planning Area descriptions & EIA Service Territories?\n",
    "* Problem BAs / Utilities:\n",
    "  * All the WAPA BAs\n",
    "  * PacifiCorp East / West\n",
    "  * Southern Company\n",
    "  * MISO (Some other IDs that seem related?)\n",
    "  * PJM (Early years seem out of bounds)"
   ]
  },
  {
   "cell_type": "markdown",
   "metadata": {},
   "source": [
    "## FERC 714 Demand Time Series Cleanup\n",
    "\n",
    "### Find broken data:\n",
    "* Run Tyler Ruggles' anomaly detection code as improved by Greg Schivley\n",
    "* What kind of anomalies are we finding? Are they a problem? What portion of the overall dataset do they represent?\n",
    "\n",
    "### Repair data:\n",
    "* How do we want to fill in the gaps?\n",
    "* Ideally would be able to use the MICE technique that Tyler used, but we need to keep it all in Python.\n",
    "* Can do much simpler rolling averages or something for the moment when there are small gaps just to have completeness.\n",
    "* Should make this gap filling process modular -- use different techniques and see whether they do what we need."
   ]
  },
  {
   "cell_type": "markdown",
   "metadata": {},
   "source": [
    "# Miscellaneous Notes"
   ]
  },
  {
   "cell_type": "markdown",
   "metadata": {},
   "source": [
    "## FERC 714 Demand Irregularities\n",
    "Unusual issues that need to be addressed, or demand discontinuities that may be useful in the context of aggregating historical demand into modern planning areas. Organized by FERC 714 Respondent ID:\n",
    "\n",
    "* Missing demand data / weird zeroes\n",
    "  * 111: (2008)\n",
    "  * 125: (2015)\n",
    "  * 137: (2006)\n",
    "  * 139: (2006) Only the last hour of every day. Maybe 0-23 vs 1-24 reporting?\n",
    "  * 141: (2006, 2007, 2008, 2009, 2010)\n",
    "  * 148: (2006)\n",
    "  * 153: (2006)\n",
    "  * 154: (2006)\n",
    "  * 161: (all)\n",
    "  * 183: (2007, 2009)\n",
    "  * 208: (2008)\n",
    "  * 273: (2007, 2008)\n",
    "  * 283: (2007)\n",
    "  * 287: (2008-2012)\n",
    "  * 288: (2006)\n",
    "  * 289: (2009)\n",
    "  * 293: (2006)\n",
    "  * 294: (2006)\n",
    "  * 311: (2008-2011)\n",
    "* Inverted Demand (Sign Errors):\n",
    "  * 156: (2006, 2007, 2008, 2009)\n",
    "  * 289: (2006-2008, 2010)\n",
    "* Large demand discontinuities\n",
    "  * 107: Demand triples at end of 2006.\n",
    "  * 115: Two big step downs, 2007-2008, and 2011-2012\n",
    "  * 121: 50% increase at end of 2007.\n",
    "  * 128: Step up at end of 2007\n",
    "  * 133: Step down end of 2013 and again end of 2015\n",
    "  * 190: Demand doubled at end of 2008\n",
    "  * 214: 50% jump in early 2012.\n",
    "  * 256: big jump at end of 2006.\n",
    "  * 261: Big jump at end of 2008.\n",
    "  * 274: drop at end of 2007\n",
    "  * 275: Jump at end of 2007\n",
    "  * 287: Demand before and after big gap are very different.\n",
    "  * 299: Big drop at end of 2015\n",
    "  * 307: Jump at end of 2014\n",
    "  * 321: Jump at end of 2013"
   ]
  }
 ],
 "metadata": {
  "kernelspec": {
   "display_name": "Python 3",
   "language": "python",
   "name": "python3"
  },
  "language_info": {
   "codemirror_mode": {
    "name": "ipython",
    "version": 3
   },
   "file_extension": ".py",
   "mimetype": "text/x-python",
   "name": "python",
   "nbconvert_exporter": "python",
   "pygments_lexer": "ipython3",
   "version": "3.8.3"
  },
  "toc-autonumbering": true,
  "toc-showcode": false,
  "toc-showmarkdowntxt": false,
  "toc-showtags": false
 },
 "nbformat": 4,
 "nbformat_minor": 4
}
